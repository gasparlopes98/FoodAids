{
 "cells": [
  {
   "attachments": {},
   "cell_type": "markdown",
   "metadata": {},
   "source": [
    "## Setup Inicial"
   ]
  },
  {
   "cell_type": "code",
   "execution_count": 31,
   "metadata": {},
   "outputs": [],
   "source": [
    "import tensorflow as tf\n",
    "import cv2 as cv\n",
    "import matplotlib.pyplot as plt\n",
    "import os\n",
    "from os import listdir, remove, path\n",
    "from imghdr import what\n",
    "from sklearn.model_selection import train_test_split\n",
    "from pathlib import Path"
   ]
  },
  {
   "cell_type": "code",
   "execution_count": 12,
   "metadata": {},
   "outputs": [
    {
     "data": {
      "text/plain": [
       "'2.6.0'"
      ]
     },
     "execution_count": 12,
     "metadata": {},
     "output_type": "execute_result"
    }
   ],
   "source": [
    "tf.__version__"
   ]
  },
  {
   "cell_type": "code",
   "execution_count": null,
   "metadata": {},
   "outputs": [],
   "source": [
    "img = cv.imread('assets/francesinha/4.jpg')\n",
    "plt.imshow(cv.cvtColor(img, cv.COLOR_BGR2RGB))"
   ]
  },
  {
   "attachments": {},
   "cell_type": "markdown",
   "metadata": {},
   "source": [
    "## Tratamento dos Dados"
   ]
  },
  {
   "attachments": {},
   "cell_type": "markdown",
   "metadata": {},
   "source": [
    "#### Remover possíveis imagens irreconhecíveis pelo Python"
   ]
  },
  {
   "cell_type": "code",
   "execution_count": 13,
   "metadata": {},
   "outputs": [],
   "source": [
    "extensoes = ['jpeg', 'png', 'jpg', 'JPG', 'JPEG', 'PNG']"
   ]
  },
  {
   "cell_type": "code",
   "execution_count": 14,
   "metadata": {},
   "outputs": [
    {
     "data": {
      "text/plain": [
       "['aletria',\n",
       " 'arroz_cabidela',\n",
       " 'bacalhau_bras',\n",
       " 'bacalhau_natas',\n",
       " 'batatas_fritas',\n",
       " 'bolinhos_bacalhau',\n",
       " 'bolo_chocolate',\n",
       " 'cachorro',\n",
       " 'caldo_verde',\n",
       " 'cozido_portuguesa',\n",
       " 'croissant',\n",
       " 'donuts',\n",
       " 'esparguete_bolonhesa',\n",
       " 'feijoada',\n",
       " 'francesinha',\n",
       " 'gelado',\n",
       " 'hamburguer',\n",
       " 'jardineira',\n",
       " 'nata',\n",
       " 'ovo',\n",
       " 'pasteis_bacalhau',\n",
       " 'pizza',\n",
       " 'tripas_moda_porto',\n",
       " 'waffles']"
      ]
     },
     "execution_count": 14,
     "metadata": {},
     "output_type": "execute_result"
    }
   ],
   "source": [
    "listdir('assets')"
   ]
  },
  {
   "cell_type": "code",
   "execution_count": 15,
   "metadata": {},
   "outputs": [
    {
     "name": "stdout",
     "output_type": "stream",
     "text": [
      "Imagem não compatível com a leitura Python, a remover a imagem assets\\aletria\\201.jpg\n",
      "Imagem não compatível com a leitura Python, a remover a imagem assets\\aletria\\71.jpg\n",
      "Imagem não compatível com a leitura Python, a remover a imagem assets\\aletria\\90.jpg\n",
      "Imagem não compatível com a leitura Python, a remover a imagem assets\\aletria\\97.jpg\n",
      "Imagem não compatível com a leitura Python, a remover a imagem assets\\bacalhau_bras\\282.jpg\n",
      "Imagem não compatível com a leitura Python, a remover a imagem assets\\bacalhau_bras\\484.jpg\n",
      "Imagem não compatível com a leitura Python, a remover a imagem assets\\bacalhau_natas\\15.jpg\n",
      "Imagem não compatível com a leitura Python, a remover a imagem assets\\bacalhau_natas\\77.jpg\n",
      "Imagem não compatível com a leitura Python, a remover a imagem assets\\bacalhau_natas\\84.jpg\n",
      "Imagem não compatível com a leitura Python, a remover a imagem assets\\batatas_fritas\\104.jpg\n",
      "Imagem não compatível com a leitura Python, a remover a imagem assets\\batatas_fritas\\118.jpg\n",
      "Imagem não compatível com a leitura Python, a remover a imagem assets\\batatas_fritas\\129.jpg\n",
      "Imagem não compatível com a leitura Python, a remover a imagem assets\\batatas_fritas\\130.jpg\n",
      "Imagem não compatível com a leitura Python, a remover a imagem assets\\batatas_fritas\\136.jpg\n",
      "Imagem não compatível com a leitura Python, a remover a imagem assets\\batatas_fritas\\55.jpg\n",
      "Imagem não compatível com a leitura Python, a remover a imagem assets\\batatas_fritas\\61.jpeg\n",
      "Imagem não compatível com a leitura Python, a remover a imagem assets\\batatas_fritas\\77.jpeg\n",
      "Imagem não compatível com a leitura Python, a remover a imagem assets\\batatas_fritas\\92.jpg\n",
      "Imagem não compatível com a leitura Python, a remover a imagem assets\\batatas_fritas\\96.jpeg\n",
      "Imagem não compatível com a leitura Python, a remover a imagem assets\\bolo_chocolate\\55.jpg\n",
      "Imagem não compatível com a leitura Python, a remover a imagem assets\\cachorro\\10.jpg\n",
      "Imagem não compatível com a leitura Python, a remover a imagem assets\\cachorro\\16.jpg\n",
      "Imagem não compatível com a leitura Python, a remover a imagem assets\\cachorro\\49.jpg\n",
      "Imagem não compatível com a leitura Python, a remover a imagem assets\\cachorro\\66.jpg\n",
      "Imagem não compatível com a leitura Python, a remover a imagem assets\\cozido_portuguesa\\47.jpg\n",
      "Imagem não compatível com a leitura Python, a remover a imagem assets\\donuts\\113.jpg\n",
      "Imagem não compatível com a leitura Python, a remover a imagem assets\\donuts\\132.jpg\n",
      "Imagem não compatível com a leitura Python, a remover a imagem assets\\donuts\\138.jpg\n",
      "Imagem não compatível com a leitura Python, a remover a imagem assets\\donuts\\146.jpg\n",
      "Imagem não compatível com a leitura Python, a remover a imagem assets\\donuts\\158.jpg\n",
      "Imagem não compatível com a leitura Python, a remover a imagem assets\\donuts\\71.jpg\n",
      "Imagem não compatível com a leitura Python, a remover a imagem assets\\esparguete_bolonhesa\\160.jpg\n",
      "Imagem não compatível com a leitura Python, a remover a imagem assets\\feijoada\\81.jpg\n",
      "Imagem não compatível com a leitura Python, a remover a imagem assets\\francesinha\\178.jpg\n",
      "Imagem não compatível com a leitura Python, a remover a imagem assets\\francesinha\\203.jpg\n",
      "Imagem não compatível com a leitura Python, a remover a imagem assets\\francesinha\\24.jpg\n",
      "Imagem não compatível com a leitura Python, a remover a imagem assets\\francesinha\\267.jpg\n",
      "Imagem não compatível com a leitura Python, a remover a imagem assets\\francesinha\\268.jpg\n",
      "Imagem não compatível com a leitura Python, a remover a imagem assets\\hamburguer\\149.jpg\n",
      "Imagem não compatível com a leitura Python, a remover a imagem assets\\hamburguer\\155.jpg\n",
      "Imagem não compatível com a leitura Python, a remover a imagem assets\\hamburguer\\156.jpg\n",
      "Imagem não compatível com a leitura Python, a remover a imagem assets\\hamburguer\\91.jpg\n",
      "Imagem não compatível com a leitura Python, a remover a imagem assets\\pizza\\190.jpg\n",
      "Imagem não compatível com a leitura Python, a remover a imagem assets\\tripas_moda_porto\\64.jpg\n",
      "Imagem não compatível com a leitura Python, a remover a imagem assets\\waffles\\11.jpg\n",
      "Imagem não compatível com a leitura Python, a remover a imagem assets\\waffles\\54.jpg\n",
      "Imagem não compatível com a leitura Python, a remover a imagem assets\\waffles\\70.jpg\n"
     ]
    }
   ],
   "source": [
    "for class_imagem in listdir('assets'): \n",
    "    for imagem in listdir(path.join('assets', class_imagem)): # Para todas as pastas de imagens\n",
    "        path_imagem = path.join('assets', class_imagem, imagem) # Cada imagem em cada pasta\n",
    "        try:\n",
    "            img = cv.imread(path_imagem) # Abrir a imagem\n",
    "            tip = what(path_imagem)\n",
    "            if tip not in extensoes:\n",
    "                print('Imagem não compatível com a leitura Python, a remover a imagem {}'.format(path_imagem))\n",
    "                remove(path_imagem)\n",
    "        except Exception as e:\n",
    "            print('Erro com a imagem {}'.format(path_imagem))"
   ]
  },
  {
   "attachments": {},
   "cell_type": "markdown",
   "metadata": {},
   "source": [
    "#### Transformar todas as imagens para terem o mesmo tamanho"
   ]
  },
  {
   "cell_type": "code",
   "execution_count": 16,
   "metadata": {},
   "outputs": [],
   "source": [
    "for pasta in listdir('assets'): \n",
    "    subpasta = path.join('assets', pasta)\n",
    "    \n",
    "    for imagem in listdir(subpasta):\n",
    "        if imagem.endswith('.jpeg') or imagem.endswith('.png') or imagem.endswith('.jpg') or imagem.endswith('.JPG') or imagem.endswith('.JPEG') or imagem.endswith('.PNG'):\n",
    "            # Ler a imagem\n",
    "            img = cv.imread(path.join(subpasta, imagem))\n",
    "\n",
    "            # Colocar imagens todas no mesmo tamanho\n",
    "            img = cv.resize(img, (224,224))\n",
    "\n",
    "            # Colocar as imagens no formato RGB\n",
    "            img = cv.cvtColor(img, cv.COLOR_BGR2RGB)\n",
    "\n",
    "            # Gravar a nova imagem\n",
    "            cv.imwrite(path.join(subpasta, imagem), img)"
   ]
  },
  {
   "attachments": {},
   "cell_type": "markdown",
   "metadata": {},
   "source": [
    "#### Divisão dos Dados"
   ]
  },
  {
   "cell_type": "code",
   "execution_count": 17,
   "metadata": {},
   "outputs": [],
   "source": [
    "# Listas vazias para guardar os paths das imagens e as suas labels\n",
    "path_imagens = []\n",
    "labels = []"
   ]
  },
  {
   "cell_type": "code",
   "execution_count": 18,
   "metadata": {},
   "outputs": [
    {
     "name": "stdout",
     "output_type": "stream",
     "text": [
      "Amostras de treino: 5090\n",
      "Amostras de validação: 1697\n"
     ]
    }
   ],
   "source": [
    "# Obter os paths e as labels das imagens\n",
    "for label in listdir('assets'):\n",
    "    pasta_label = path.join('assets', label)\n",
    "    if path.isdir(pasta_label): # isdir vai procurar por pastas para retirar os paths das imagens dentro dessa pasta\n",
    "        for imagem in listdir(pasta_label):\n",
    "            caminho_imagem = path.join(pasta_label, imagem)\n",
    "            path_imagens.append(caminho_imagem)\n",
    "            labels.append(label)\n",
    "\n",
    "# Dividir os dados em dados de treino e dados de validação\n",
    "img_treino, img_validacao, labels_treino, labels_validacao = train_test_split(path_imagens, labels, test_size=0.25, random_state=2023)\n",
    "\n",
    "# Print do numero de amostras nos daods de treino e validação\n",
    "print('Amostras de treino:',len(img_treino))\n",
    "print('Amostras de validação:',len(img_validacao))"
   ]
  },
  {
   "cell_type": "code",
   "execution_count": 34,
   "metadata": {},
   "outputs": [
    {
     "name": "stdout",
     "output_type": "stream",
     "text": [
      "c:\\Users\\João\\Desktop\\ISEP\\1_Ano\\3-Desafio\\FoodAids\\reconhecimento_imagem\n"
     ]
    }
   ],
   "source": [
    "folder = \"caldo_verde/\"\n",
    "\n",
    "for i, filename in enumerate(os.listdir(folder)):\n",
    "    os.rename(\"caldo_verde/\" + filename, \"caldo_verde/\" + str(i) + \".jpg\")"
   ]
  },
  {
   "cell_type": "code",
   "execution_count": null,
   "metadata": {},
   "outputs": [],
   "source": []
  }
 ],
 "metadata": {
  "kernelspec": {
   "display_name": "ML",
   "language": "python",
   "name": "python3"
  },
  "language_info": {
   "codemirror_mode": {
    "name": "ipython",
    "version": 3
   },
   "file_extension": ".py",
   "mimetype": "text/x-python",
   "name": "python",
   "nbconvert_exporter": "python",
   "pygments_lexer": "ipython3",
   "version": "3.9.0"
  },
  "orig_nbformat": 4
 },
 "nbformat": 4,
 "nbformat_minor": 2
}
