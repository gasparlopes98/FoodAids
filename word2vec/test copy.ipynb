{
 "cells": [
  {
   "cell_type": "code",
   "execution_count": 27,
   "metadata": {},
   "outputs": [],
   "source": [
    "import pandas as pd\n",
    "import nltk\n",
    "from nltk.corpus import stopwords\n",
    "# nltk.download('stopwords') # install NLTK data to home user directory\n",
    "import unidecode\n",
    "from gensim.models import Word2Vec\n",
    "from ingredient_parser import ingredient_parser\n",
    "import embeddings as emb\n",
    "from sklearn.metrics.pairwise import cosine_similarity\n",
    "\n",
    "# get corpus with the documents sorted in alphabetical order\n",
    "def get_and_sort_corpus(data):\n",
    "    corpus_sorted = []\n",
    "    for doc in data.parsed.values:\n",
    "        doc.sort()\n",
    "        corpus_sorted.append(doc)\n",
    "    return corpus_sorted\n",
    "\n",
    "def ingredient_parser_final(ingredient):\n",
    "    \"\"\"\n",
    "    neaten the ingredients being outputted\n",
    "    \"\"\"\n",
    "    if isinstance(ingredient, list):\n",
    "        ingredients = ingredient\n",
    "    else:\n",
    "        ingredients = ingredient.split()\n",
    "\n",
    "    ingredients = \",\".join(ingredients)\n",
    "    ingredients = unidecode.unidecode(ingredients)\n",
    "    return ingredients\n",
    "\n",
    "def get_recommendations(N, scores,csv_file,lerning_param):\n",
    "    \"\"\"\n",
    "    Top-N recomendations order by score\n",
    "    \"\"\"\n",
    "    # load in recipe dataset\n",
    "    df_recipes = pd.read_csv(csv_file)\n",
    "    # order the scores with and filter to get the highest N scores\n",
    "    top = sorted(range(len(scores)), key=lambda i: scores[i], reverse=True)[:N]\n",
    "    # create dataframe to load in recommendations\n",
    "    lerning_param.insert(0, \"title\")\n",
    "    lerning_param.append(\"score\")\n",
    "    recommendation = pd.DataFrame(columns=lerning_param)\n",
    "\n",
    "    for i in top:\n",
    "        # recommendation.at[i, \"title\"] = unidecode.unidecode(df_recipes[\"title\"][i])\n",
    "        for param in lerning_param[1:-1]:\n",
    "            recommendation.at[i, param] = ingredient_parser_final(\n",
    "                df_recipes[param][i]\n",
    "            )\n",
    "        recommendation.at[i, \"score\"] = f\"{scores[i]}\"\n",
    "    return recommendation\n"
   ]
  },
  {
   "cell_type": "code",
   "execution_count": 29,
   "metadata": {},
   "outputs": [
    {
     "name": "stdout",
     "output_type": "stream",
     "text": [
      "Length of corpus: 79\n",
      "24938.642578125\n"
     ]
    },
    {
     "data": {
      "text/plain": [
       "62"
      ]
     },
     "execution_count": 29,
     "metadata": {},
     "output_type": "execute_result"
    }
   ],
   "source": [
    "#####\n",
    "# TREINAR MODELO\n",
    "#####\n",
    "\n",
    "csv_file = \"recipes.csv\"\n",
    "\n",
    "data = pd.read_csv(csv_file)\n",
    "learning_param=[\"recipe\"]#[\"title\",\"ingredients\",\"recipe\"]\n",
    "columns=data[\"recipe\"]#data[\"title\"] +','+ data[\"recipe\"]\n",
    "data[\"parsed\"] = columns #.apply(ingredient_parser)\n",
    "\n",
    "# data.head()\n",
    "\n",
    "corpus = data[\"parsed\"]#get_and_sort_corpus(data)\n",
    "print(f\"Length of corpus: {len(corpus)}\")\n",
    "        \n",
    "model = Word2Vec(corpus, sg=0, workers=8, window=6, min_count=1, vector_size=100,compute_loss=True)\n",
    "\n",
    "# Loss\n",
    "print(model.get_latest_training_loss())\n",
    "\n",
    "#Summarize vocabulary\n",
    "words = list(model.wv.index_to_key)\n",
    "words.sort()\n",
    "len(words)"
   ]
  },
  {
   "cell_type": "code",
   "execution_count": 37,
   "metadata": {},
   "outputs": [
    {
     "ename": "ValueError",
     "evalue": "empty vocabulary; perhaps the documents only contain stop words",
     "output_type": "error",
     "traceback": [
      "\u001b[0;31m---------------------------------------------------------------------------\u001b[0m",
      "\u001b[0;31mValueError\u001b[0m                                Traceback (most recent call last)",
      "Cell \u001b[0;32mIn[37], line 10\u001b[0m\n\u001b[1;32m      7\u001b[0m \u001b[39m# vec_tr = emb.MeanEmbeddingVectorizer(model)\u001b[39;00m\n\u001b[1;32m      8\u001b[0m vec_tr \u001b[39m=\u001b[39m emb\u001b[39m.\u001b[39mTfidfEmbeddingVectorizer(model)\n\u001b[0;32m---> 10\u001b[0m vec_tr\u001b[39m.\u001b[39;49mfit(corpus)\n\u001b[1;32m     11\u001b[0m doc_vec \u001b[39m=\u001b[39m vec_tr\u001b[39m.\u001b[39mtransform(corpus)\n\u001b[1;32m     12\u001b[0m doc_vec \u001b[39m=\u001b[39m [doc\u001b[39m.\u001b[39mreshape(\u001b[39m1\u001b[39m, \u001b[39m-\u001b[39m\u001b[39m1\u001b[39m) \u001b[39mfor\u001b[39;00m doc \u001b[39min\u001b[39;00m doc_vec]\n",
      "File \u001b[0;32m~/mestrado/projetos/FoodAid/word2vec/embeddings.py:73\u001b[0m, in \u001b[0;36mTfidfEmbeddingVectorizer.fit\u001b[0;34m(self, docs)\u001b[0m\n\u001b[1;32m     70\u001b[0m     text_docs\u001b[39m.\u001b[39mappend(\u001b[39m\"\u001b[39m\u001b[39m \u001b[39m\u001b[39m\"\u001b[39m\u001b[39m.\u001b[39mjoin(doc))\n\u001b[1;32m     72\u001b[0m tfidf \u001b[39m=\u001b[39m TfidfVectorizer()\n\u001b[0;32m---> 73\u001b[0m tfidf\u001b[39m.\u001b[39;49mfit(text_docs)  \u001b[39m# must be list of text string\u001b[39;00m\n\u001b[1;32m     75\u001b[0m \u001b[39m# if a word was never seen - it must be at least as infrequent\u001b[39;00m\n\u001b[1;32m     76\u001b[0m \u001b[39m# as any of the known words - so the default idf is the max of\u001b[39;00m\n\u001b[1;32m     77\u001b[0m \u001b[39m# known idf's\u001b[39;00m\n\u001b[1;32m     78\u001b[0m max_idf \u001b[39m=\u001b[39m \u001b[39mmax\u001b[39m(tfidf\u001b[39m.\u001b[39midf_)  \u001b[39m# used as default value for defaultdict\u001b[39;00m\n",
      "File \u001b[0;32m~/anaconda3/envs/work/lib/python3.10/site-packages/sklearn/feature_extraction/text.py:2103\u001b[0m, in \u001b[0;36mTfidfVectorizer.fit\u001b[0;34m(self, raw_documents, y)\u001b[0m\n\u001b[1;32m   2096\u001b[0m \u001b[39mself\u001b[39m\u001b[39m.\u001b[39m_warn_for_unused_params()\n\u001b[1;32m   2097\u001b[0m \u001b[39mself\u001b[39m\u001b[39m.\u001b[39m_tfidf \u001b[39m=\u001b[39m TfidfTransformer(\n\u001b[1;32m   2098\u001b[0m     norm\u001b[39m=\u001b[39m\u001b[39mself\u001b[39m\u001b[39m.\u001b[39mnorm,\n\u001b[1;32m   2099\u001b[0m     use_idf\u001b[39m=\u001b[39m\u001b[39mself\u001b[39m\u001b[39m.\u001b[39muse_idf,\n\u001b[1;32m   2100\u001b[0m     smooth_idf\u001b[39m=\u001b[39m\u001b[39mself\u001b[39m\u001b[39m.\u001b[39msmooth_idf,\n\u001b[1;32m   2101\u001b[0m     sublinear_tf\u001b[39m=\u001b[39m\u001b[39mself\u001b[39m\u001b[39m.\u001b[39msublinear_tf,\n\u001b[1;32m   2102\u001b[0m )\n\u001b[0;32m-> 2103\u001b[0m X \u001b[39m=\u001b[39m \u001b[39msuper\u001b[39;49m()\u001b[39m.\u001b[39;49mfit_transform(raw_documents)\n\u001b[1;32m   2104\u001b[0m \u001b[39mself\u001b[39m\u001b[39m.\u001b[39m_tfidf\u001b[39m.\u001b[39mfit(X)\n\u001b[1;32m   2105\u001b[0m \u001b[39mreturn\u001b[39;00m \u001b[39mself\u001b[39m\n",
      "File \u001b[0;32m~/anaconda3/envs/work/lib/python3.10/site-packages/sklearn/feature_extraction/text.py:1388\u001b[0m, in \u001b[0;36mCountVectorizer.fit_transform\u001b[0;34m(self, raw_documents, y)\u001b[0m\n\u001b[1;32m   1380\u001b[0m             warnings\u001b[39m.\u001b[39mwarn(\n\u001b[1;32m   1381\u001b[0m                 \u001b[39m\"\u001b[39m\u001b[39mUpper case characters found in\u001b[39m\u001b[39m\"\u001b[39m\n\u001b[1;32m   1382\u001b[0m                 \u001b[39m\"\u001b[39m\u001b[39m vocabulary while \u001b[39m\u001b[39m'\u001b[39m\u001b[39mlowercase\u001b[39m\u001b[39m'\u001b[39m\u001b[39m\"\u001b[39m\n\u001b[1;32m   1383\u001b[0m                 \u001b[39m\"\u001b[39m\u001b[39m is True. These entries will not\u001b[39m\u001b[39m\"\u001b[39m\n\u001b[1;32m   1384\u001b[0m                 \u001b[39m\"\u001b[39m\u001b[39m be matched with any documents\u001b[39m\u001b[39m\"\u001b[39m\n\u001b[1;32m   1385\u001b[0m             )\n\u001b[1;32m   1386\u001b[0m             \u001b[39mbreak\u001b[39;00m\n\u001b[0;32m-> 1388\u001b[0m vocabulary, X \u001b[39m=\u001b[39m \u001b[39mself\u001b[39;49m\u001b[39m.\u001b[39;49m_count_vocab(raw_documents, \u001b[39mself\u001b[39;49m\u001b[39m.\u001b[39;49mfixed_vocabulary_)\n\u001b[1;32m   1390\u001b[0m \u001b[39mif\u001b[39;00m \u001b[39mself\u001b[39m\u001b[39m.\u001b[39mbinary:\n\u001b[1;32m   1391\u001b[0m     X\u001b[39m.\u001b[39mdata\u001b[39m.\u001b[39mfill(\u001b[39m1\u001b[39m)\n",
      "File \u001b[0;32m~/anaconda3/envs/work/lib/python3.10/site-packages/sklearn/feature_extraction/text.py:1294\u001b[0m, in \u001b[0;36mCountVectorizer._count_vocab\u001b[0;34m(self, raw_documents, fixed_vocab)\u001b[0m\n\u001b[1;32m   1292\u001b[0m     vocabulary \u001b[39m=\u001b[39m \u001b[39mdict\u001b[39m(vocabulary)\n\u001b[1;32m   1293\u001b[0m     \u001b[39mif\u001b[39;00m \u001b[39mnot\u001b[39;00m vocabulary:\n\u001b[0;32m-> 1294\u001b[0m         \u001b[39mraise\u001b[39;00m \u001b[39mValueError\u001b[39;00m(\n\u001b[1;32m   1295\u001b[0m             \u001b[39m\"\u001b[39m\u001b[39mempty vocabulary; perhaps the documents only contain stop words\u001b[39m\u001b[39m\"\u001b[39m\n\u001b[1;32m   1296\u001b[0m         )\n\u001b[1;32m   1298\u001b[0m \u001b[39mif\u001b[39;00m indptr[\u001b[39m-\u001b[39m\u001b[39m1\u001b[39m] \u001b[39m>\u001b[39m np\u001b[39m.\u001b[39miinfo(np\u001b[39m.\u001b[39mint32)\u001b[39m.\u001b[39mmax:  \u001b[39m# = 2**31 - 1\u001b[39;00m\n\u001b[1;32m   1299\u001b[0m     \u001b[39mif\u001b[39;00m _IS_32BIT:\n",
      "\u001b[0;31mValueError\u001b[0m: empty vocabulary; perhaps the documents only contain stop words"
     ]
    }
   ],
   "source": [
    "#####\n",
    "# TESTAR COM INPUT\n",
    "#####\n",
    "n_sugestions = 1\n",
    "key_words = open(\"../test.txt\", \"r\")#\"francesinha\"\n",
    "input=key_words.read()\n",
    "# vec_tr = emb.MeanEmbeddingVectorizer(model)\n",
    "vec_tr = emb.TfidfEmbeddingVectorizer(model)\n",
    "    \n",
    "vec_tr.fit(corpus)\n",
    "doc_vec = vec_tr.transform(corpus)\n",
    "doc_vec = [doc.reshape(1, -1) for doc in doc_vec]\n",
    "\n",
    "# create tokens with elements\n",
    "#input = key_words.split(\",\")\n",
    "# parse ingredient list\n",
    "#input = ingredient_parser(input)\n",
    "# get embeddings for ingredient doc\n",
    "input_embedding = vec_tr.transform([input])[0].reshape(1, -1)\n",
    "\n",
    "# get cosine similarity between input embedding and all the document embeddings\n",
    "cos_sim = map(lambda x: cosine_similarity(input_embedding, x)[0][0], doc_vec)\n",
    "scores = list(cos_sim)\n",
    "# Filter top N recommendations\n",
    "recommendations = get_recommendations(n_sugestions, scores,csv_file,learning_param)\n",
    "# recommendations.recipe\n"
   ]
  }
 ],
 "metadata": {
  "kernelspec": {
   "display_name": "work",
   "language": "python",
   "name": "python3"
  },
  "language_info": {
   "codemirror_mode": {
    "name": "ipython",
    "version": 3
   },
   "file_extension": ".py",
   "mimetype": "text/x-python",
   "name": "python",
   "nbconvert_exporter": "python",
   "pygments_lexer": "ipython3",
   "version": "3.10.10"
  },
  "orig_nbformat": 4
 },
 "nbformat": 4,
 "nbformat_minor": 2
}
