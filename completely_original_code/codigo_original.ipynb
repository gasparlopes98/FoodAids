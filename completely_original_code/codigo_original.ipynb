{
 "cells": [
  {
   "cell_type": "code",
   "execution_count": 3,
   "metadata": {},
   "outputs": [],
   "source": [
    "import os\n",
    "import sys\n",
    "import logging\n",
    "\n",
    "import numpy as np\n",
    "import pandas as pd \n",
    "\n",
    "from gensim.models import Word2Vec\n",
    "\n",
    "from ingredient_parser import ingredient_parser\n",
    "\n",
    "sys.path.append('..')\n",
    "\n"
   ]
  },
  {
   "cell_type": "code",
   "execution_count": 5,
   "metadata": {},
   "outputs": [
    {
     "data": {
      "text/html": [
       "<div>\n",
       "<style scoped>\n",
       "    .dataframe tbody tr th:only-of-type {\n",
       "        vertical-align: middle;\n",
       "    }\n",
       "\n",
       "    .dataframe tbody tr th {\n",
       "        vertical-align: top;\n",
       "    }\n",
       "\n",
       "    .dataframe thead th {\n",
       "        text-align: right;\n",
       "    }\n",
       "</style>\n",
       "<table border=\"1\" class=\"dataframe\">\n",
       "  <thead>\n",
       "    <tr style=\"text-align: right;\">\n",
       "      <th></th>\n",
       "      <th>title</th>\n",
       "      <th>ingredients</th>\n",
       "      <th>ingredients_parsed</th>\n",
       "      <th>parsed_new</th>\n",
       "    </tr>\n",
       "  </thead>\n",
       "  <tbody>\n",
       "    <tr>\n",
       "      <th>0</th>\n",
       "      <td>No-Bake Nut Cookies</td>\n",
       "      <td>brown sugar, milk, vanilla, nuts, butter, bite...</td>\n",
       "      <td>['sugar', 'milk', 'butter', 'rice biscuit']</td>\n",
       "      <td>[sugar, milk, butter, rice biscuit]</td>\n",
       "    </tr>\n",
       "    <tr>\n",
       "      <th>1</th>\n",
       "      <td>Jewell Ball'S Chicken</td>\n",
       "      <td>beef, chicken breasts, cream of mushroom soup,...</td>\n",
       "      <td>['beef', 'chicken breast', 'cream mushroom sou...</td>\n",
       "      <td>[beef, chicken breast, cream mushroom soup, cr...</td>\n",
       "    </tr>\n",
       "    <tr>\n",
       "      <th>2</th>\n",
       "      <td>Creamy Corn</td>\n",
       "      <td>frozen corn, cream cheese, butter, garlic powd...</td>\n",
       "      <td>['cream cheese', 'butter']</td>\n",
       "      <td>[cream cheese, butter]</td>\n",
       "    </tr>\n",
       "    <tr>\n",
       "      <th>3</th>\n",
       "      <td>Chicken Funny</td>\n",
       "      <td>chicken, chicken gravy, cream of mushroom soup...</td>\n",
       "      <td>['chicken', 'chicken gravy', 'cream mushroom s...</td>\n",
       "      <td>[chicken, chicken gravy, cream mushroom soup, ...</td>\n",
       "    </tr>\n",
       "    <tr>\n",
       "      <th>4</th>\n",
       "      <td>Reeses Cups(Candy)</td>\n",
       "      <td>peanut butter, graham cracker crumbs, butter, ...</td>\n",
       "      <td>['peanut butter', 'graham cracker', 'butter', ...</td>\n",
       "      <td>[peanut butter, graham cracker, butter, powder...</td>\n",
       "    </tr>\n",
       "  </tbody>\n",
       "</table>\n",
       "</div>"
      ],
      "text/plain": [
       "                   title                                        ingredients  \\\n",
       "0    No-Bake Nut Cookies  brown sugar, milk, vanilla, nuts, butter, bite...   \n",
       "1  Jewell Ball'S Chicken  beef, chicken breasts, cream of mushroom soup,...   \n",
       "2            Creamy Corn  frozen corn, cream cheese, butter, garlic powd...   \n",
       "3          Chicken Funny  chicken, chicken gravy, cream of mushroom soup...   \n",
       "4   Reeses Cups(Candy)    peanut butter, graham cracker crumbs, butter, ...   \n",
       "\n",
       "                                  ingredients_parsed  \\\n",
       "0        ['sugar', 'milk', 'butter', 'rice biscuit']   \n",
       "1  ['beef', 'chicken breast', 'cream mushroom sou...   \n",
       "2                         ['cream cheese', 'butter']   \n",
       "3  ['chicken', 'chicken gravy', 'cream mushroom s...   \n",
       "4  ['peanut butter', 'graham cracker', 'butter', ...   \n",
       "\n",
       "                                          parsed_new  \n",
       "0                [sugar, milk, butter, rice biscuit]  \n",
       "1  [beef, chicken breast, cream mushroom soup, cr...  \n",
       "2                             [cream cheese, butter]  \n",
       "3  [chicken, chicken gravy, cream mushroom soup, ...  \n",
       "4  [peanut butter, graham cracker, butter, powder...  "
      ]
     },
     "execution_count": 5,
     "metadata": {},
     "output_type": "execute_result"
    }
   ],
   "source": [
    "data = pd.read_csv('parsed.csv')\n",
    "data['parsed_new'] = data.ingredients.apply(ingredient_parser)\n",
    "data.head()"
   ]
  },
  {
   "cell_type": "code",
   "execution_count": 6,
   "metadata": {},
   "outputs": [
    {
     "name": "stdout",
     "output_type": "stream",
     "text": [
      "Length of corpus: 1000\n"
     ]
    }
   ],
   "source": [
    "# get corpus with the documents sorted in alphabetical order\n",
    "def get_and_sort_corpus(data):\n",
    "    corpus_sorted = []\n",
    "    for doc in data.parsed_new.values:\n",
    "        doc.sort()\n",
    "        corpus_sorted.append(doc)\n",
    "    return corpus_sorted\n",
    "\n",
    "corpus = get_and_sort_corpus(data)\n",
    "print(f\"Length of corpus: {len(corpus)}\")"
   ]
  },
  {
   "cell_type": "code",
   "execution_count": 7,
   "metadata": {},
   "outputs": [
    {
     "data": {
      "text/plain": [
       "5.199"
      ]
     },
     "execution_count": 7,
     "metadata": {},
     "output_type": "execute_result"
    }
   ],
   "source": [
    "lengths = [len(doc) for doc in corpus]\n",
    "avg_len = float(sum(lengths)) / len(lengths)\n",
    "avg_len"
   ]
  },
  {
   "cell_type": "code",
   "execution_count": 8,
   "metadata": {},
   "outputs": [],
   "source": [
    "# train word2vec model \n",
    "sg = 0 # CBOW: build a language model that correctly predicts the center word given the context words in which the center word appears\n",
    "workers = 8 # number of CPUs\n",
    "window = 6 # window size: average length of each document \n",
    "min_count = 1 # unique ingredients are important to decide recipes \n",
    "\n",
    "model_cbow = Word2Vec(corpus, sg=sg, workers=workers, window=window, min_count=min_count, vector_size=100)"
   ]
  },
  {
   "cell_type": "code",
   "execution_count": 12,
   "metadata": {},
   "outputs": [
    {
     "name": "stdout",
     "output_type": "stream",
     "text": [
      "Word2Vec<vocab=621, vector_size=100, alpha=0.025>\n"
     ]
    }
   ],
   "source": [
    "#Summarize the loaded model\n",
    "print(model_cbow)\n",
    "\n",
    "#Summarize vocabulary\n",
    "words = list(model_cbow.wv.index_to_key)\n",
    "words.sort()\n",
    "# print(words)\n",
    "\n",
    "#Acess vector for one word\n",
    "# print(model_cbow.wv['chicken stock'])\n",
    "\n",
    "# most similar\n",
    "model_cbow.wv.most_similar(u'sugar')\n",
    "#model_cbow.wv.similarity('cauliflower', 'cauliflower just larger than potato')\n",
    "model_cbow.save('models/model_cbow.bin')\n"
   ]
  }
 ],
 "metadata": {
  "kernelspec": {
   "display_name": "food-sida",
   "language": "python",
   "name": "python3"
  },
  "language_info": {
   "codemirror_mode": {
    "name": "ipython",
    "version": 3
   },
   "file_extension": ".py",
   "mimetype": "text/x-python",
   "name": "python",
   "nbconvert_exporter": "python",
   "pygments_lexer": "ipython3",
   "version": "3.9.16"
  },
  "orig_nbformat": 4
 },
 "nbformat": 4,
 "nbformat_minor": 2
}
