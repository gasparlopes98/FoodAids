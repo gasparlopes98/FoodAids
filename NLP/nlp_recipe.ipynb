{
 "cells": [
  {
   "cell_type": "code",
   "execution_count": 1,
   "metadata": {},
   "outputs": [
    {
     "name": "stderr",
     "output_type": "stream",
     "text": [
      "/home/golopes/anaconda3/envs/work/lib/python3.10/site-packages/tqdm/auto.py:21: TqdmWarning: IProgress not found. Please update jupyter and ipywidgets. See https://ipywidgets.readthedocs.io/en/stable/user_install.html\n",
      "  from .autonotebook import tqdm as notebook_tqdm\n",
      "2023-04-18 18:56:45.717902: I tensorflow/core/platform/cpu_feature_guard.cc:193] This TensorFlow binary is optimized with oneAPI Deep Neural Network Library (oneDNN) to use the following CPU instructions in performance-critical operations:  SSE4.1 SSE4.2 AVX AVX2 FMA\n",
      "To enable them in other operations, rebuild TensorFlow with the appropriate compiler flags.\n"
     ]
    }
   ],
   "source": [
    "import os\n",
    "os.chdir('/home/golopes/mestrado/projetos/FoodAid/')\n",
    "\n",
    "import numpy as np\n",
    "import pandas as pd\n",
    "import spacy\n",
    "nlp = spacy.load('en_core_web_sm', disable=['lemmatizer', 'tagger', 'ner'])\n",
    "from ingredient_parser import ingredient_parser\n",
    "from keras_preprocessing.sequence import pad_sequences\n",
    "import tensorflow as tf\n",
    "from tensorflow.keras import layers\n",
    "import matplotlib.pyplot as plt\n",
    "from pattern.text.en import singularize\n",
    "import keras\n",
    "\n",
    "def get_labels(df, tokenized_instructions):\n",
    "    labels = []\n",
    "    dic_ing={}\n",
    "    for ing, ti in zip(df[\"ingredients\"], tokenized_instructions):\n",
    "        l_i = []\n",
    "        ci = ingredient_parser(ing)\n",
    "        for i in ci:\n",
    "            if i not in dic_ing.keys():\n",
    "                dic_ing[i] = len(dic_ing)\n",
    "        for token in ti:\n",
    "            l_i.append(any((c == token.text or c == singularize(token.text) or singularize(c) == token.text) for c in ci))\n",
    "        labels.append(l_i)\n",
    "    return labels,dic_ing\n",
    "            \n",
    "def prepare_sequences(texts, max_len, vocab={\"<UNK>\": 1, \"<PAD>\": 0}):\n",
    "    X = [[vocab.get(w.text, vocab[\"<UNK>\"]) for w in s] for s in texts]\n",
    "    return pad_sequences(maxlen=max_len, sequences=X, padding=\"post\", value=vocab[\"<PAD>\"])"
   ]
  },
  {
   "cell_type": "code",
   "execution_count": 2,
   "metadata": {},
   "outputs": [
    {
     "name": "stdout",
     "output_type": "stream",
     "text": [
      "nan\n",
      "Number of unique tokens: 12525\n"
     ]
    }
   ],
   "source": [
    "eval_size =10\n",
    "\n",
    "csv = pd.read_csv(\"csv_file/new_recipes.csv\")\n",
    "df=csv.sample(frac=1).reset_index(drop=True)\n",
    "\n",
    "# df = csv[eval_size:].reset_index(drop=True)\n",
    "# eval_df = csv[:eval_size]\n",
    "tokenized=[]\n",
    "for t in df.recipe.values:\n",
    "    try:\n",
    "        tokenized.append(nlp(t))\n",
    "    except:\n",
    "        print(t)\n",
    "    \n",
    "vocab = {\"<UNK>\": 1, \"<PAD>\": 0}\n",
    "for txt in tokenized:\n",
    "    for token in txt:\n",
    "        if singularize(token.text) not in vocab.keys():\n",
    "            vocab[singularize(token.text)] = len(vocab)\n",
    "print(\"Number of unique tokens: {}\".format(len(vocab)))\n",
    "\n",
    "labels,dic_ing = get_labels(df, tokenized)\n"
   ]
  },
  {
   "cell_type": "code",
   "execution_count": 3,
   "metadata": {},
   "outputs": [
    {
     "name": "stdout",
     "output_type": "stream",
     "text": [
      "Preheat oven to 350°F. Line baking sheet with parchment paper. Whisk egg, 2 tablespoons brown sugar, 2 tablespoons melted butter, honey, and 1 teaspoon orange peel in medium bowl. Set aside 1 tablespoon nuts for garnish. Add remaining nuts and all dried fruit to bowl with egg mixture; toss filling to coat. Unroll crust onto prepared sheet. Spoon filling into center of crust; spread out in even layer, leaving 1 1/2- to 2-inch border. Fold crust edges over filling, pleating occasionally. Brush crust with remaining 1/2 tablespoon melted butter. Finely chop reserved 1 tablespoon nuts. Mix chopped nuts and remaining 1/2 tablespoon brown sugar in small bowl. Sprinkle over crust.\n",
      "Bake crostata until crust is golden brown and filling is bubbling in center, about 40 minutes.\n",
      "Stir yogurt and remaining 3/4 teaspoon orange peel in small bowl. Serve crostata warm or at room temperature with orange-flavored yogurt.\n",
      "['1 large egg', '2 1/2 tablespoons (packed) golden brown sugar, divided', '2 1/2 tablespoons butter, melted, divided', '2 tablespoons orange blossom honey', '1 3/4 teaspoons finely grated orange peel, divided', '1/2 cup shelled unsalted natural pistachios (about 2 ounces), divided', '3/4 cup (packed) pitted dates (about 4 1/2 ounces), halved lengthwise', '1/2 cup dried cranberries (about 2 ounces)', '1/2 cup (packed) halved stemmed dried black Mission figs (about 3 1/2 ounces)', '1 refrigerated pie crust (half of 15-ounce package)', '1 cup plain whole-milk yogurt']\n"
     ]
    },
    {
     "data": {
      "text/plain": [
       "{'butter', 'orange', 'peel', 'sugar'}"
      ]
     },
     "execution_count": 3,
     "metadata": {},
     "output_type": "execute_result"
    }
   ],
   "source": [
    "i=30\n",
    "print(tokenized[i])\n",
    "print(df.ingredients[i])\n",
    "set([t.text for t, l in zip(tokenized[i], labels[i]) if l])"
   ]
  },
  {
   "cell_type": "code",
   "execution_count": 4,
   "metadata": {},
   "outputs": [
    {
     "name": "stderr",
     "output_type": "stream",
     "text": [
      "2023-04-18 19:40:25.057473: I tensorflow/core/platform/cpu_feature_guard.cc:193] This TensorFlow binary is optimized with oneAPI Deep Neural Network Library (oneDNN) to use the following CPU instructions in performance-critical operations:  SSE4.1 SSE4.2 AVX AVX2 FMA\n",
      "To enable them in other operations, rebuild TensorFlow with the appropriate compiler flags.\n",
      "2023-04-18 19:40:25.060291: I tensorflow/core/common_runtime/process_util.cc:146] Creating new thread pool with default inter op setting: 2. Tune using inter_op_parallelism_threads for best performance.\n"
     ]
    },
    {
     "name": "stdout",
     "output_type": "stream",
     "text": [
      "Epoch 1/10\n",
      "36/36 [==============================] - 285s 7s/step - loss: 0.2500 - accuracy: 0.9618 - val_loss: 0.0720 - val_accuracy: 0.9905\n",
      "Epoch 2/10\n",
      "36/36 [==============================] - 246s 7s/step - loss: 0.1174 - accuracy: 0.9753 - val_loss: 0.0623 - val_accuracy: 0.9905\n",
      "Epoch 3/10\n",
      "36/36 [==============================] - 215s 6s/step - loss: 0.1167 - accuracy: 0.9753 - val_loss: 0.0608 - val_accuracy: 0.9905\n",
      "Epoch 4/10\n",
      "36/36 [==============================] - 136s 4s/step - loss: 0.1162 - accuracy: 0.9753 - val_loss: 0.0597 - val_accuracy: 0.9905\n",
      "Epoch 5/10\n",
      "36/36 [==============================] - 178s 5s/step - loss: 0.1161 - accuracy: 0.9753 - val_loss: 0.0586 - val_accuracy: 0.9905\n",
      "Epoch 6/10\n",
      "36/36 [==============================] - 170s 5s/step - loss: 0.1153 - accuracy: 0.9753 - val_loss: 0.0573 - val_accuracy: 0.9905\n",
      "Epoch 7/10\n",
      "36/36 [==============================] - 184s 5s/step - loss: 0.1091 - accuracy: 0.9753 - val_loss: 0.0535 - val_accuracy: 0.9905\n",
      "Epoch 8/10\n",
      "36/36 [==============================] - 170s 5s/step - loss: 0.0904 - accuracy: 0.9751 - val_loss: 0.0518 - val_accuracy: 0.9882\n",
      "Epoch 9/10\n",
      "36/36 [==============================] - 167s 5s/step - loss: 0.0817 - accuracy: 0.9748 - val_loss: 0.0469 - val_accuracy: 0.9899\n",
      "Epoch 10/10\n",
      "36/36 [==============================] - 173s 5s/step - loss: 0.0802 - accuracy: 0.9751 - val_loss: 0.0520 - val_accuracy: 0.9893\n"
     ]
    }
   ],
   "source": [
    "MAX_LEN = 400\n",
    "epoch_nr=10\n",
    "X_seq = prepare_sequences(tokenized, max_len=MAX_LEN, vocab=vocab)\n",
    "\n",
    "y_seq = []\n",
    "for l in labels:\n",
    "    y_i = []\n",
    "    for i in range(MAX_LEN):\n",
    "        try:\n",
    "            y_i.append(float(l[i]))\n",
    "        except:\n",
    "            y_i.append(0.0)\n",
    "    y_seq.append(np.array(y_i))\n",
    "y_seq = np.array(y_seq)\n",
    "y_seq = y_seq.reshape(y_seq.shape[0], y_seq.shape[1], 1)\n",
    "\n",
    "class NLModel(keras.Model):\n",
    "    def __init__(self, vocab_len, output_dim,name=None):\n",
    "        super().__init__(name=name)\n",
    "        self.vocab_len = vocab_len\n",
    "        self.output_dim=output_dim\n",
    "        \n",
    "        self.model = tf.keras.Sequential([\n",
    "            layers.Embedding(input_dim=vocab_len, mask_zero=True, output_dim=output_dim),\n",
    "            layers.SpatialDropout1D(0.2),\n",
    "            layers.Bidirectional(layers.LSTM(units=64, return_sequences=True)),\n",
    "            layers.SpatialDropout1D(0.2),\n",
    "            layers.Bidirectional(layers.LSTM(units=64, return_sequences=True)),\n",
    "            layers.TimeDistributed(layers.Dense(1, activation='sigmoid'))\n",
    "        ])\n",
    "\n",
    "    def call(self, inputs):\n",
    "        x = self.model(inputs)\n",
    "        return x\n",
    "\n",
    "    # def get_config(self):\n",
    "    #     return {\"output_dim\": self.output_dim, \"vocab_len\": self.vocab_len}\n",
    "\n",
    "model=NLModel(len(vocab),50)\n",
    "model.compile(optimizer=tf.keras.optimizers.Adam(0.001),\n",
    "              loss='binary_crossentropy',\n",
    "              metrics=['accuracy'])\n",
    "\n",
    "history = model.fit(X_seq, y_seq, epochs=epoch_nr, batch_size=256, validation_split=0.1)"
   ]
  },
  {
   "cell_type": "code",
   "execution_count": 5,
   "metadata": {},
   "outputs": [
    {
     "data": {
      "text/plain": [
       "<matplotlib.legend.Legend at 0x7fa7c4f25ba0>"
      ]
     },
     "execution_count": 5,
     "metadata": {},
     "output_type": "execute_result"
    },
    {
     "data": {
      "image/png": "[encoded data removed]",
      "text/plain": [
       "<Figure size 1500x500 with 2 Axes>"
      ]
     },
     "metadata": {},
     "output_type": "display_data"
    }
   ],
   "source": [
    "fig, (ax1, ax2) = plt.subplots(1, 2)\n",
    "fig.set_figheight(5)\n",
    "fig.set_figwidth(15)\n",
    "ax1.plot(history.history[\"accuracy\"])\n",
    "ax2.plot(history.history[\"loss\"])\n",
    "ax1.plot(history.history['val_'+\"accuracy\"])\n",
    "ax2.plot(history.history['val_'+\"loss\"])\n",
    "ax1.set_title(\"Accuracy\")\n",
    "ax2.set_title(\"Loss\")\n",
    "ax1.legend([\"accuracy\", 'val_'+\"accuracy\"])\n",
    "ax2.legend([\"loss\", 'val_'+\"loss\"])"
   ]
  },
  {
   "cell_type": "code",
   "execution_count": 35,
   "metadata": {},
   "outputs": [
    {
     "name": "stdout",
     "output_type": "stream",
     "text": [
      "1/1 [==============================] - 0s 213ms/step\n",
      "Recipe: Season the steaks with garlic, paprika, salt, and pepper. Heat the olive oil in a large skillet over high heat.\n",
      "\n",
      "Add the steaks to the skillet and cook them for 2-3 minutes on each side or until they reach your desired level of doneness. Remove them from the skillet and set them aside.\n",
      "\n",
      "In the same skillet, melt the butter and fry the eggs to your desired level of doneness.\n",
      "\n",
      "Add the red wine vinegar to the skillet and stir to scrape up any browned bits from the bottom of the pan. Reduce the heat to low and simmer for a minute.\n",
      "\n",
      "Serve the steaks on a plate with fries, rice, and salad. Place a fried egg on top of each steak and drizzle the pan sauce over the top.\n",
      "\n",
      "Ingredients: garlic,paprika,salt,pepper,olive,oil,butter,wine,rice,egg,steak\n"
     ]
    },
    {
     "ename": "",
     "evalue": "",
     "output_type": "error",
     "traceback": [
      "\u001b[1;31mThe Kernel crashed while executing code in the the current cell or a previous cell. Please review the code in the cell(s) to identify a possible cause of the failure. Click <a href='https://aka.ms/vscodeJupyterKernelCrash'>here</a> for more info. View Jupyter <a href='command:jupyter.viewOutput'>log</a> for further details."
     ]
    }
   ],
   "source": [
    "input_txt = open(\"test2.txt\", \"r\")\n",
    "\n",
    "input_tokenized=[]\n",
    "input_tokenized.append(nlp(input_txt.read()))\n",
    "inp_seq = prepare_sequences(input_tokenized, max_len=MAX_LEN, vocab=vocab)\n",
    "out_seq = model.predict(inp_seq, verbose=1, batch_size=1)\n",
    "\n",
    "predict = out_seq > 0.1\n",
    "        \n",
    "print('Recipe: ' + str(input_tokenized[0]))\n",
    "print()\n",
    "ingreds_test = [t.text for t, p in zip(input_tokenized[0], predict[0]) if p]\n",
    "set(ingreds_test)\n",
    "ing=[]\n",
    "for i in ingreds_test:\n",
    "    # if i in dic_ing.keys() and i not in ing:\n",
    "    if i not in ing:\n",
    "        ing.append(i)\n",
    "ing=str(','.join(ing))\n",
    "print('Ingredients: '+ing)\n",
    "\n",
    "# title = input('Give Title: ')\n",
    "# csv.loc[len(csv)]={'title':title,'ingredients':ing,'recipe':txt}\n",
    "\n",
    "# csv.to_csv('csv_file/file_name.csv', index=False)"
   ]
  },
  {
   "cell_type": "code",
   "execution_count": 8,
   "metadata": {},
   "outputs": [
    {
     "name": "stderr",
     "output_type": "stream",
     "text": [
      "WARNING:absl:Found untraced functions such as _update_step_xla, lstm_cell_1_layer_call_fn, lstm_cell_1_layer_call_and_return_conditional_losses, lstm_cell_2_layer_call_fn, lstm_cell_2_layer_call_and_return_conditional_losses while saving (showing 5 of 9). These functions will not be directly callable after loading.\n"
     ]
    },
    {
     "name": "stdout",
     "output_type": "stream",
     "text": [
      "INFO:tensorflow:Assets written to: NLP/model/recipe_ing_model.h5/assets\n"
     ]
    },
    {
     "name": "stderr",
     "output_type": "stream",
     "text": [
      "INFO:tensorflow:Assets written to: NLP/model/recipe_ing_model.h5/assets\n"
     ]
    }
   ],
   "source": [
    "import pickle\n",
    "\n",
    "tf.saved_model.save(model, 'NLP/model/recipe_ing_model.h5')\n",
    "\n",
    "with open('NLP/save/vocab.pkl', 'wb') as fp:\n",
    "    pickle.dump(vocab, fp)\n",
    "    \n",
    "# with open('NL/save/ingred_vocab.pkl', 'wb') as fp:\n",
    "#     pickle.dump(dic_ing, fp)"
   ]
  },
  {
   "cell_type": "code",
   "execution_count": null,
   "metadata": {},
   "outputs": [],
   "source": [
    "# with open('NL/save/vocab.pkl', 'rb') as fp:\n",
    "#         vocab = pickle.load(fp)\n",
    "        \n",
    "# with open('NL/save/ingred_vocab.pkl', 'rb') as fp:\n",
    "#     dic_ing = pickle.load(fp)\n",
    "\n",
    "# model = tf.saved_model.load('NL/model/recipe_ing_model.h5')\n",
    "\n",
    "# input = open(\"test.txt\", \"r\")\n",
    "\n",
    "# input_tokenized=[]\n",
    "# input_tokenized.append(nlp(input.read()))\n",
    "# inp_seq = prepare_sequences(input_tokenized, max_len=MAX_LEN, vocab=vocab)\n",
    "# out_seq = model(inp_seq)\n",
    "\n",
    "# predict = out_seq > 0.05\n",
    "# ingreds_test = [t.text for t, p in zip(input_tokenized[0], predict[0]) if p]\n",
    "# set(ingreds_test)\n",
    "# ing=[]\n",
    "# for i in ingreds_test:\n",
    "#     if i in dic_ing.keys() and i not in ing:\n",
    "#         ing.append(i)\n",
    "\n",
    "# print('Ingredients: ',end=\"\")\n",
    "# [print(i,end=\", \") for i in ing]\n",
    "# print()"
   ]
  }
 ],
 "metadata": {
  "kernelspec": {
   "display_name": "work",
   "language": "python",
   "name": "python3"
  },
  "language_info": {
   "codemirror_mode": {
    "name": "ipython",
    "version": 3
   },
   "file_extension": ".py",
   "mimetype": "text/x-python",
   "name": "python",
   "nbconvert_exporter": "python",
   "pygments_lexer": "ipython3",
   "version": "3.10.10"
  },
  "orig_nbformat": 4
 },
 "nbformat": 4,
 "nbformat_minor": 2
}
