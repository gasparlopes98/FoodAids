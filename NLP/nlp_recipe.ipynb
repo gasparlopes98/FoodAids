{
 "cells": [
  {
   "cell_type": "code",
   "execution_count": 4,
   "metadata": {},
   "outputs": [],
   "source": [
    "import os\n",
    "os.chdir('/home/golopes/mestrado/projetos/FoodAid/')\n",
    "\n",
    "import numpy as np\n",
    "import pandas as pd\n",
    "import spacy\n",
    "nlp = spacy.load('en_core_web_sm', disable=['lemmatizer', 'tagger', 'ner'])\n",
    "from ingredient_parser import ingredient_parser\n",
    "from keras_preprocessing.sequence import pad_sequences\n",
    "import tensorflow as tf\n",
    "from tensorflow.keras import layers\n",
    "import matplotlib.pyplot as plt\n",
    "from pattern.text.en import singularize\n",
    "import keras\n",
    "\n",
    "def get_labels(df, tokenized_instructions):\n",
    "    labels = []\n",
    "    dic_ing={}\n",
    "    for ing, ti in zip(df[\"ingredients\"], tokenized_instructions):\n",
    "        l_i = []\n",
    "        ci = ingredient_parser(ing)\n",
    "        for i in ci:\n",
    "            if i not in dic_ing.keys():\n",
    "                dic_ing[i] = len(dic_ing)\n",
    "        for token in ti:\n",
    "            l_i.append(any((c == token.text or c == singularize(token.text) or singularize(c) == token.text) for c in ci))\n",
    "        labels.append(l_i)\n",
    "    return labels,dic_ing\n",
    "            \n",
    "def prepare_sequences(texts, max_len, vocab={\"<UNK>\": 1, \"<PAD>\": 0}):\n",
    "    X = [[vocab.get(w.text, vocab[\"<UNK>\"]) for w in s] for s in texts]\n",
    "    return pad_sequences(maxlen=max_len, sequences=X, padding=\"post\", value=vocab[\"<PAD>\"])"
   ]
  },
  {
   "cell_type": "code",
   "execution_count": 5,
   "metadata": {},
   "outputs": [
    {
     "name": "stdout",
     "output_type": "stream",
     "text": [
      "Number of unique tokens: 522\n"
     ]
    }
   ],
   "source": [
    "eval_size =10\n",
    "\n",
    "csv = pd.read_csv(\"csv_file/recipes.csv\")\n",
    "df=csv.sample(frac=1).reset_index(drop=True)\n",
    "\n",
    "df = csv[eval_size:].reset_index(drop=True)\n",
    "eval_df = csv[:eval_size]\n",
    "\n",
    "tokenized = [nlp(t) for t in df.recipe.values]\n",
    "\n",
    "vocab = {\"<UNK>\": 1, \"<PAD>\": 0}\n",
    "for txt in tokenized:\n",
    "    for token in txt:\n",
    "        if singularize(token.text) not in vocab.keys():\n",
    "            vocab[singularize(token.text)] = len(vocab)\n",
    "print(\"Number of unique tokens: {}\".format(len(vocab)))\n",
    "\n",
    "labels,dic_ing = get_labels(df, tokenized)\n"
   ]
  },
  {
   "cell_type": "code",
   "execution_count": 6,
   "metadata": {},
   "outputs": [
    {
     "name": "stdout",
     "output_type": "stream",
     "text": [
      "Peel and slice the potatoes, onion, and garlic. In a pot, sauté the onion and garlic in olive oil until they are golden brown. Add the potatoes and water (enough to cover the potatoes) and cook until the potatoes are soft. Using a blender, blend the potatoes and water until smooth. In a separate pot, cook the kale until it's tender. Slice the chouriço and add it to the pot. Add the blended potato and water mixture to the pot with the kale and chouriço. Bring the mixture to a boil, and then let it simmer for 5-10 minutes. Serve hot with a drizzle of olive oil on top.\n",
      "potatoes, onion, garlic, kale, chorizo, olive oil, salt, water \n"
     ]
    },
    {
     "data": {
      "text/plain": [
       "{'garlic', 'kale', 'oil', 'olive', 'onion', 'potato', 'potatoes', 'water'}"
      ]
     },
     "execution_count": 6,
     "metadata": {},
     "output_type": "execute_result"
    }
   ],
   "source": [
    "i=30\n",
    "print(tokenized[i])\n",
    "print(df.ingredients[i])\n",
    "set([t.text for t, l in zip(tokenized[i], labels[i]) if l])"
   ]
  },
  {
   "cell_type": "code",
   "execution_count": 7,
   "metadata": {},
   "outputs": [
    {
     "name": "stderr",
     "output_type": "stream",
     "text": [
      "2023-04-17 20:56:01.432224: I tensorflow/core/platform/cpu_feature_guard.cc:193] This TensorFlow binary is optimized with oneAPI Deep Neural Network Library (oneDNN) to use the following CPU instructions in performance-critical operations:  SSE4.1 SSE4.2 AVX AVX2 FMA\n",
      "To enable them in other operations, rebuild TensorFlow with the appropriate compiler flags.\n",
      "2023-04-17 20:56:01.438611: I tensorflow/core/common_runtime/process_util.cc:146] Creating new thread pool with default inter op setting: 2. Tune using inter_op_parallelism_threads for best performance.\n"
     ]
    },
    {
     "name": "stdout",
     "output_type": "stream",
     "text": [
      "Epoch 1/10\n",
      "1/1 [==============================] - 25s 25s/step - loss: 0.6920 - accuracy: 0.6415 - val_loss: 0.6779 - val_accuracy: 0.8970\n",
      "Epoch 2/10\n",
      "1/1 [==============================] - 2s 2s/step - loss: 0.6790 - accuracy: 0.8631 - val_loss: 0.6611 - val_accuracy: 0.8970\n",
      "Epoch 3/10\n",
      "1/1 [==============================] - 3s 3s/step - loss: 0.6635 - accuracy: 0.8631 - val_loss: 0.6396 - val_accuracy: 0.8970\n",
      "Epoch 4/10\n",
      "1/1 [==============================] - 2s 2s/step - loss: 0.6433 - accuracy: 0.8631 - val_loss: 0.6115 - val_accuracy: 0.8970\n",
      "Epoch 5/10\n",
      "1/1 [==============================] - 3s 3s/step - loss: 0.6195 - accuracy: 0.8631 - val_loss: 0.5746 - val_accuracy: 0.8970\n",
      "Epoch 6/10\n",
      "1/1 [==============================] - 2s 2s/step - loss: 0.5854 - accuracy: 0.8631 - val_loss: 0.5268 - val_accuracy: 0.8970\n",
      "Epoch 7/10\n",
      "1/1 [==============================] - 4s 4s/step - loss: 0.5436 - accuracy: 0.8631 - val_loss: 0.4673 - val_accuracy: 0.8970\n",
      "Epoch 8/10\n",
      "1/1 [==============================] - 2s 2s/step - loss: 0.4895 - accuracy: 0.8631 - val_loss: 0.4013 - val_accuracy: 0.8970\n",
      "Epoch 9/10\n",
      "1/1 [==============================] - 3s 3s/step - loss: 0.4391 - accuracy: 0.8631 - val_loss: 0.3500 - val_accuracy: 0.8970\n",
      "Epoch 10/10\n",
      "1/1 [==============================] - 2s 2s/step - loss: 0.4095 - accuracy: 0.8631 - val_loss: 0.3479 - val_accuracy: 0.8970\n"
     ]
    }
   ],
   "source": [
    "MAX_LEN = 400\n",
    "epoch_nr=10\n",
    "X_seq = prepare_sequences(tokenized, max_len=MAX_LEN, vocab=vocab)\n",
    "\n",
    "y_seq = []\n",
    "for l in labels:\n",
    "    y_i = []\n",
    "    for i in range(MAX_LEN):\n",
    "        try:\n",
    "            y_i.append(float(l[i]))\n",
    "        except:\n",
    "            y_i.append(0.0)\n",
    "    y_seq.append(np.array(y_i))\n",
    "y_seq = np.array(y_seq)\n",
    "y_seq = y_seq.reshape(y_seq.shape[0], y_seq.shape[1], 1)\n",
    "\n",
    "class NLModel(keras.Model):\n",
    "    def __init__(self, vocab_len, output_dim,name=None):\n",
    "        super().__init__(name=name)\n",
    "        self.vocab_len = vocab_len\n",
    "        self.output_dim=output_dim\n",
    "        \n",
    "        self.model = tf.keras.Sequential([\n",
    "            layers.Embedding(input_dim=vocab_len, mask_zero=True, output_dim=output_dim),\n",
    "            layers.SpatialDropout1D(0.2),\n",
    "            layers.Bidirectional(layers.LSTM(units=64, return_sequences=True)),\n",
    "            layers.SpatialDropout1D(0.2),\n",
    "            layers.Bidirectional(layers.LSTM(units=64, return_sequences=True)),\n",
    "            layers.TimeDistributed(layers.Dense(1, activation='sigmoid'))\n",
    "        ])\n",
    "\n",
    "    def call(self, inputs):\n",
    "        x = self.model(inputs)\n",
    "        return x\n",
    "\n",
    "    # def get_config(self):\n",
    "    #     return {\"output_dim\": self.output_dim, \"vocab_len\": self.vocab_len}\n",
    "\n",
    "model=NLModel(len(vocab),50)\n",
    "model.compile(optimizer=tf.keras.optimizers.Adam(0.001),\n",
    "              loss='binary_crossentropy',\n",
    "              metrics=['accuracy'])\n",
    "\n",
    "history = model.fit(X_seq, y_seq, epochs=epoch_nr, batch_size=256, validation_split=0.1)"
   ]
  },
  {
   "cell_type": "code",
   "execution_count": 8,
   "metadata": {},
   "outputs": [
    {
     "data": {
      "text/plain": [
       "<matplotlib.legend.Legend at 0x7febfe71b8b0>"
      ]
     },
     "execution_count": 8,
     "metadata": {},
     "output_type": "execute_result"
    },
    {
     "data": {
      "image/png": "[encoded data removed]",
      "text/plain": [
       "<Figure size 1500x500 with 2 Axes>"
      ]
     },
     "metadata": {},
     "output_type": "display_data"
    }
   ],
   "source": [
    "fig, (ax1, ax2) = plt.subplots(1, 2)\n",
    "fig.set_figheight(5)\n",
    "fig.set_figwidth(15)\n",
    "ax1.plot(history.history[\"accuracy\"])\n",
    "ax2.plot(history.history[\"loss\"])\n",
    "ax1.plot(history.history['val_'+\"accuracy\"])\n",
    "ax2.plot(history.history['val_'+\"loss\"])\n",
    "ax1.set_title(\"Accuracy\")\n",
    "ax2.set_title(\"Loss\")\n",
    "ax1.legend([\"accuracy\", 'val_'+\"accuracy\"])\n",
    "ax2.legend([\"loss\", 'val_'+\"loss\"])"
   ]
  },
  {
   "cell_type": "code",
   "execution_count": 9,
   "metadata": {},
   "outputs": [
    {
     "name": "stdout",
     "output_type": "stream",
     "text": [
      "2/2 [==============================] - 5s 178ms/step\n"
     ]
    }
   ],
   "source": [
    "eval_ingredients = eval_df.ingredients.values\n",
    "recipe=eval_df.recipe.values.tolist()\n",
    "eval_tokenized = []\n",
    "for t in recipe:\n",
    "    try:\n",
    "        eval_tokenized.append(nlp(t.replace(\"\\n\",\" \")))\n",
    "    except:\n",
    "        print(t)\n",
    "\n",
    "X_seq_test = prepare_sequences(eval_tokenized, max_len=MAX_LEN, vocab=vocab)\n",
    "\n",
    "y_pred_test = model.predict(X_seq_test, verbose=1, batch_size=5)\n"
   ]
  },
  {
   "cell_type": "code",
   "execution_count": 10,
   "metadata": {},
   "outputs": [
    {
     "name": "stdout",
     "output_type": "stream",
     "text": [
      "Recipe: Peel and chop the pumpkin into small pieces. Cook it in boiling water for about 10 minutes, then drain and mash it. In a pot, heat the milk with the cinnamon stick, lemon peel and sugar. Once it starts boiling, add the aletria and let it cook until it thickens, stirring occasionally. Remove the cinnamon stick and lemon peel, and stir in the mashed pumpkin. Transfer the aletria to a serving dish and let it cool. \n",
      "Csv Ingredients: aletria, pumpkin, milk, sugar, cinnamon stick, lemon \n",
      "\n",
      "Predicted Ingredients: it, aletria, pumpkin, cook, about, Once, for, add, sugar, cool, with, dish, Remove, the, chop, drain, then, stick, lemon, cinnamon, pot, into, In, serving, ., in, mash, stirring, occasionally, Cook, mashed, peel, Transfer, small, thickens, minutes, let, and, Peel, heat, a, pieces, milk, ,, starts, stir, to, boiling, water, 10, until, \n",
      "Predicted Ingredients after Clean: water, milk, cinnamon, lemon, peel, sugar, \n"
     ]
    }
   ],
   "source": [
    "\n",
    "i = 9\n",
    "pred_i = y_pred_test[i] > 0.01\n",
    "ingreds = [t.text for t, p in zip(eval_tokenized[i], pred_i) if p]\n",
    "set(ingreds)\n",
    "ing_ver=[]\n",
    "for j in ingreds:\n",
    "    if singularize(j) in dic_ing.keys() and j not in ing_ver:\n",
    "        ing_ver.append(j)\n",
    "        \n",
    "print('Recipe: ' + str(eval_tokenized[i]))  \n",
    "print('Csv Ingredients: ' + eval_ingredients[i])     \n",
    "print()\n",
    "print('Predicted Ingredients: ',end=\"\")\n",
    "[print(i,end=\", \") for i in set(ingreds)]\n",
    "print()\n",
    "print('Predicted Ingredients after Clean: ',end=\"\")\n",
    "[print(i,end=\", \") for i in ing_ver]\n",
    "print()"
   ]
  },
  {
   "cell_type": "code",
   "execution_count": 15,
   "metadata": {},
   "outputs": [
    {
     "name": "stdout",
     "output_type": "stream",
     "text": [
      "1/1 [==============================] - 0s 253ms/step\n",
      "Recipe: 2 beef beer ingredients 500g cheap beef pieces stewing steak usually cheap 500 mls real ale 4 large onions 2 fat cloves garlic tbsp plain flour method raw beef roll flour fry 4 5 pieces time hot saucepan seal put one side done cut onions quarters fry frying pan beef soak juices towards end frying onion nicely brown round edges throw smashed cloves garlic transfer beef onions garlic deep casserole dish stir remaining flour pour bottle beer really going wasted cover cook 150 2 half hours gorgeous comes trust serve mash \"\" 3 pad thai chicken 4 servings ingredients essential items rice noodles use another type noodle read packet instructions cook 2 chicken breasts salt pepper 3 medium red chillis chopped 3 spring onions chopped 2 eggs corriander corriander substitute dried mint 1 tbsp lemon juice 1 tbsp brown sugar 2 cloves garlic minced 3 tbsp fish sauce following ingredients essential afford taste fantastic dish 60g cooked shrimp 3 tbsp roasted peanuts slightly ground beansprouts mange tout sugar snap peas method 1 soak rice noodles hot water 20 minutes cooked 2 heat oil pan add two beaten seasoned eggs make omlette transfer plate chop strips leave cool 3 heat oil wok add chicken sealed sides add garlic 4 add spring onions shrimp using stir fry another minute 5 add chillis drained noodles fish sauce lemon juice sugar peanuts stir fry high heat another minute 6 toss bean sprouts omlette strips mange tout stir fry briskly 30 seconds 7 toss corriander season taste serve piping hot \n",
      "\n",
      "Ingredients: "
     ]
    }
   ],
   "source": [
    "input_txt = open(\"test.txt\", \"r\")\n",
    "\n",
    "input_tokenized=[]\n",
    "input_tokenized.append(nlp(input_txt.read()))\n",
    "inp_seq = prepare_sequences(input_tokenized, max_len=MAX_LEN, vocab=vocab)\n",
    "out_seq = model.predict(inp_seq, verbose=1, batch_size=1)\n",
    "\n",
    "predict = out_seq > 0.05\n",
    "        \n",
    "print('Recipe: ' + str(input_tokenized[0]))\n",
    "print()\n",
    "ingreds_test = [t.text for t, p in zip(input_tokenized[0], predict[0]) if p]\n",
    "set(ingreds_test)\n",
    "ing=[]\n",
    "for i in ingreds_test:\n",
    "    if i in dic_ing.keys() and i not in ing:\n",
    "        ing.append(i)\n",
    "ing=str(','.join(ing))\n",
    "print('Ingredients: '+ing)\n",
    "\n",
    "title = input('Give Title: ')\n",
    "csv.loc[len(csv)]={'title':title,'ingredients':ing,'recipe':txt}\n",
    "\n",
    "csv.to_csv('csv_file/file_name.csv', index=False)"
   ]
  },
  {
   "cell_type": "code",
   "execution_count": 12,
   "metadata": {},
   "outputs": [],
   "source": [
    "import pickle\n",
    "\n",
    "tf.saved_model.save(model, 'NL/model/recipe_ing_model.h5')\n",
    "\n",
    "with open('NL/save/vocab.pkl', 'wb') as fp:\n",
    "    pickle.dump(vocab, fp)\n",
    "    \n",
    "with open('NL/save/ingred_vocab.pkl', 'wb') as fp:\n",
    "    pickle.dump(dic_ing, fp)"
   ]
  },
  {
   "cell_type": "code",
   "execution_count": 13,
   "metadata": {},
   "outputs": [],
   "source": [
    "with open('NL/save/vocab.pkl', 'rb') as fp:\n",
    "        vocab = pickle.load(fp)\n",
    "        \n",
    "with open('NL/save/ingred_vocab.pkl', 'rb') as fp:\n",
    "    dic_ing = pickle.load(fp)\n",
    "\n",
    "model = tf.saved_model.load('NL/model/recipe_ing_model.h5')\n",
    "\n",
    "input = open(\"test.txt\", \"r\")\n",
    "\n",
    "input_tokenized=[]\n",
    "input_tokenized.append(nlp(input.read()))\n",
    "inp_seq = prepare_sequences(input_tokenized, max_len=MAX_LEN, vocab=vocab)\n",
    "out_seq = model(inp_seq)\n",
    "\n",
    "predict = out_seq > 0.05\n",
    "ingreds_test = [t.text for t, p in zip(input_tokenized[0], predict[0]) if p]\n",
    "set(ingreds_test)\n",
    "ing=[]\n",
    "for i in ingreds_test:\n",
    "    if i in dic_ing.keys() and i not in ing:\n",
    "        ing.append(i)\n",
    "\n",
    "print('Ingredients: ',end=\"\")\n",
    "[print(i,end=\", \") for i in ing]\n",
    "print()"
   ]
  }
 ],
 "metadata": {
  "kernelspec": {
   "display_name": "work",
   "language": "python",
   "name": "python3"
  },
  "language_info": {
   "codemirror_mode": {
    "name": "ipython",
    "version": 3
   },
   "file_extension": ".py",
   "mimetype": "text/x-python",
   "name": "python",
   "nbconvert_exporter": "python",
   "pygments_lexer": "ipython3",
   "version": "3.10.10"
  },
  "orig_nbformat": 4
 },
 "nbformat": 4,
 "nbformat_minor": 2
}
