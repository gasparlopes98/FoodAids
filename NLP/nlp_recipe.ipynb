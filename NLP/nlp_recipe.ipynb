{
 "cells": [
  {
   "cell_type": "code",
   "execution_count": 1,
   "metadata": {},
   "outputs": [
    {
     "name": "stderr",
     "output_type": "stream",
     "text": [
      "/home/golopes/anaconda3/envs/work/lib/python3.10/site-packages/tqdm/auto.py:21: TqdmWarning: IProgress not found. Please update jupyter and ipywidgets. See https://ipywidgets.readthedocs.io/en/stable/user_install.html\n",
      "  from .autonotebook import tqdm as notebook_tqdm\n",
      "2023-04-15 18:20:36.561461: I tensorflow/core/platform/cpu_feature_guard.cc:193] This TensorFlow binary is optimized with oneAPI Deep Neural Network Library (oneDNN) to use the following CPU instructions in performance-critical operations:  SSE4.1 SSE4.2 AVX AVX2 FMA\n",
      "To enable them in other operations, rebuild TensorFlow with the appropriate compiler flags.\n"
     ]
    }
   ],
   "source": [
    "import os\n",
    "os.chdir('/home/golopes/mestrado/projetos/FoodAid/')\n",
    "\n",
    "import numpy as np\n",
    "import pandas as pd\n",
    "import spacy\n",
    "nlp = spacy.load('en_core_web_sm', disable=['lemmatizer', 'tagger', 'ner'])\n",
    "from ingredient_parser import ingredient_parser\n",
    "from keras_preprocessing.sequence import pad_sequences\n",
    "import tensorflow as tf\n",
    "from tensorflow.keras import layers\n",
    "import matplotlib.pyplot as plt\n",
    "from pattern.text.en import singularize\n",
    "import keras\n",
    "\n",
    "def get_labels(df, tokenized_instructions):\n",
    "    labels = []\n",
    "    dic_ing={}\n",
    "    for ing, ti in zip(df[\"ingredients\"], tokenized_instructions):\n",
    "        l_i = []\n",
    "        ci = ingredient_parser(ing)\n",
    "        for i in ci:\n",
    "            if i not in dic_ing.keys():\n",
    "                dic_ing[i] = len(dic_ing)\n",
    "        for token in ti:\n",
    "            l_i.append(any((c == token.text or c == singularize(token.text) or singularize(c) == token.text) for c in ci))\n",
    "        labels.append(l_i)\n",
    "    return labels,dic_ing\n",
    "            \n",
    "def prepare_sequences(texts, max_len, vocab={\"<UNK>\": 1, \"<PAD>\": 0}):\n",
    "    X = [[vocab.get(w.text, vocab[\"<UNK>\"]) for w in s] for s in texts]\n",
    "    return pad_sequences(maxlen=max_len, sequences=X, padding=\"post\", value=vocab[\"<PAD>\"])"
   ]
  },
  {
   "cell_type": "code",
   "execution_count": 2,
   "metadata": {},
   "outputs": [
    {
     "name": "stdout",
     "output_type": "stream",
     "text": [
      "Number of unique tokens: 534\n"
     ]
    }
   ],
   "source": [
    "eval_size =10\n",
    "\n",
    "df = pd.read_csv(\"csv_file/recipes.csv\")\n",
    "df=df.sample(frac=1).reset_index(drop=True)\n",
    "\n",
    "df = df[eval_size:].reset_index(drop=True)\n",
    "eval_df = df[:eval_size]\n",
    "\n",
    "tokenized = [nlp(t) for t in df.recipe.values]\n",
    "\n",
    "vocab = {\"<UNK>\": 1, \"<PAD>\": 0}\n",
    "for txt in tokenized:\n",
    "    for token in txt:\n",
    "        if singularize(token.text) not in vocab.keys():\n",
    "            vocab[singularize(token.text)] = len(vocab)\n",
    "print(\"Number of unique tokens: {}\".format(len(vocab)))\n",
    "\n",
    "labels,dic_ing = get_labels(df, tokenized)\n"
   ]
  },
  {
   "cell_type": "code",
   "execution_count": 3,
   "metadata": {},
   "outputs": [
    {
     "name": "stdout",
     "output_type": "stream",
     "text": [
      "Peel and chop the vegetables. In a pot, sauté the onion and garlic in olive oil until translucent. Add the vegetables and bay leaf, and cook for a few minutes. Add the vegetable broth, season with salt and black pepper, and simmer for about 30 minutes, until the vegetables are tender.\n",
      "potatoes, carrots, turnip, onion, garlic, olive oil, bay leaf, vegetable broth, salt, black pepper\n"
     ]
    },
    {
     "data": {
      "text/plain": [
       "{'bay',\n",
       " 'broth',\n",
       " 'garlic',\n",
       " 'oil',\n",
       " 'olive',\n",
       " 'onion',\n",
       " 'pepper',\n",
       " 'salt',\n",
       " 'vegetable',\n",
       " 'vegetables'}"
      ]
     },
     "execution_count": 3,
     "metadata": {},
     "output_type": "execute_result"
    }
   ],
   "source": [
    "i=30\n",
    "print(tokenized[i])\n",
    "print(df.ingredients[i])\n",
    "set([t.text for t, l in zip(tokenized[i], labels[i]) if l])"
   ]
  },
  {
   "cell_type": "code",
   "execution_count": 4,
   "metadata": {},
   "outputs": [
    {
     "name": "stderr",
     "output_type": "stream",
     "text": [
      "2023-04-15 18:20:51.972710: I tensorflow/core/platform/cpu_feature_guard.cc:193] This TensorFlow binary is optimized with oneAPI Deep Neural Network Library (oneDNN) to use the following CPU instructions in performance-critical operations:  SSE4.1 SSE4.2 AVX AVX2 FMA\n",
      "To enable them in other operations, rebuild TensorFlow with the appropriate compiler flags.\n",
      "2023-04-15 18:20:51.974251: I tensorflow/core/common_runtime/process_util.cc:146] Creating new thread pool with default inter op setting: 2. Tune using inter_op_parallelism_threads for best performance.\n"
     ]
    },
    {
     "name": "stdout",
     "output_type": "stream",
     "text": [
      "Epoch 1/10\n",
      "1/1 [==============================] - 22s 22s/step - loss: 0.6946 - accuracy: 0.3395 - val_loss: 0.6827 - val_accuracy: 0.8567\n",
      "Epoch 2/10\n",
      "1/1 [==============================] - 2s 2s/step - loss: 0.6822 - accuracy: 0.8694 - val_loss: 0.6709 - val_accuracy: 0.8567\n",
      "Epoch 3/10\n",
      "1/1 [==============================] - 2s 2s/step - loss: 0.6697 - accuracy: 0.8694 - val_loss: 0.6567 - val_accuracy: 0.8567\n",
      "Epoch 4/10\n",
      "1/1 [==============================] - 2s 2s/step - loss: 0.6547 - accuracy: 0.8694 - val_loss: 0.6387 - val_accuracy: 0.8567\n",
      "Epoch 5/10\n",
      "1/1 [==============================] - 2s 2s/step - loss: 0.6361 - accuracy: 0.8694 - val_loss: 0.6158 - val_accuracy: 0.8567\n",
      "Epoch 6/10\n",
      "1/1 [==============================] - 2s 2s/step - loss: 0.6129 - accuracy: 0.8694 - val_loss: 0.5864 - val_accuracy: 0.8567\n",
      "Epoch 7/10\n",
      "1/1 [==============================] - 2s 2s/step - loss: 0.5811 - accuracy: 0.8694 - val_loss: 0.5495 - val_accuracy: 0.8567\n",
      "Epoch 8/10\n",
      "1/1 [==============================] - 3s 3s/step - loss: 0.5421 - accuracy: 0.8694 - val_loss: 0.5051 - val_accuracy: 0.8567\n",
      "Epoch 9/10\n",
      "1/1 [==============================] - 2s 2s/step - loss: 0.4970 - accuracy: 0.8694 - val_loss: 0.4568 - val_accuracy: 0.8567\n",
      "Epoch 10/10\n",
      "1/1 [==============================] - 2s 2s/step - loss: 0.4437 - accuracy: 0.8694 - val_loss: 0.4191 - val_accuracy: 0.8567\n"
     ]
    }
   ],
   "source": [
    "MAX_LEN = 400\n",
    "epoch_nr=10\n",
    "X_seq = prepare_sequences(tokenized, max_len=MAX_LEN, vocab=vocab)\n",
    "\n",
    "y_seq = []\n",
    "for l in labels:\n",
    "    y_i = []\n",
    "    for i in range(MAX_LEN):\n",
    "        try:\n",
    "            y_i.append(float(l[i]))\n",
    "        except:\n",
    "            y_i.append(0.0)\n",
    "    y_seq.append(np.array(y_i))\n",
    "y_seq = np.array(y_seq)\n",
    "y_seq = y_seq.reshape(y_seq.shape[0], y_seq.shape[1], 1)\n",
    "\n",
    "class NLModel(keras.Model):\n",
    "    def __init__(self, vocab_len, output_dim,name=None):\n",
    "        super().__init__(name=name)\n",
    "        self.vocab_len = vocab_len\n",
    "        self.output_dim=output_dim\n",
    "        \n",
    "        self.model = tf.keras.Sequential([\n",
    "            layers.Embedding(input_dim=vocab_len, mask_zero=True, output_dim=output_dim),\n",
    "            layers.SpatialDropout1D(0.2),\n",
    "            layers.Bidirectional(layers.LSTM(units=64, return_sequences=True)),\n",
    "            layers.SpatialDropout1D(0.2),\n",
    "            layers.Bidirectional(layers.LSTM(units=64, return_sequences=True)),\n",
    "            layers.TimeDistributed(layers.Dense(1, activation='sigmoid'))\n",
    "        ])\n",
    "\n",
    "    def call(self, inputs):\n",
    "        x = self.model(inputs)\n",
    "        return x\n",
    "\n",
    "    # def get_config(self):\n",
    "    #     return {\"output_dim\": self.output_dim, \"vocab_len\": self.vocab_len}\n",
    "\n",
    "model=NLModel(len(vocab),50)\n",
    "model.compile(optimizer=tf.keras.optimizers.Adam(0.001),\n",
    "              loss='binary_crossentropy',\n",
    "              metrics=['accuracy'])\n",
    "\n",
    "history = model.fit(X_seq, y_seq, epochs=epoch_nr, batch_size=256, validation_split=0.1)"
   ]
  },
  {
   "cell_type": "code",
   "execution_count": 5,
   "metadata": {},
   "outputs": [
    {
     "data": {
      "text/plain": [
       "<matplotlib.legend.Legend at 0x7f489aeeb6d0>"
      ]
     },
     "execution_count": 5,
     "metadata": {},
     "output_type": "execute_result"
    },
    {
     "data": {
      "image/png": "[encoded data removed]",
      "text/plain": [
       "<Figure size 1500x500 with 2 Axes>"
      ]
     },
     "metadata": {},
     "output_type": "display_data"
    }
   ],
   "source": [
    "fig, (ax1, ax2) = plt.subplots(1, 2)\n",
    "fig.set_figheight(5)\n",
    "fig.set_figwidth(15)\n",
    "ax1.plot(history.history[\"accuracy\"])\n",
    "ax2.plot(history.history[\"loss\"])\n",
    "ax1.plot(history.history['val_'+\"accuracy\"])\n",
    "ax2.plot(history.history['val_'+\"loss\"])\n",
    "ax1.set_title(\"Accuracy\")\n",
    "ax2.set_title(\"Loss\")\n",
    "ax1.legend([\"accuracy\", 'val_'+\"accuracy\"])\n",
    "ax2.legend([\"loss\", 'val_'+\"loss\"])"
   ]
  },
  {
   "cell_type": "code",
   "execution_count": 6,
   "metadata": {},
   "outputs": [
    {
     "name": "stdout",
     "output_type": "stream",
     "text": [
      "2/2 [==============================] - 4s 166ms/step\n"
     ]
    }
   ],
   "source": [
    "eval_ingredients = eval_df.ingredients.values\n",
    "recipe=eval_df.recipe.values.tolist()\n",
    "eval_tokenized = []\n",
    "for t in recipe:\n",
    "    try:\n",
    "        eval_tokenized.append(nlp(t.replace(\"\\n\",\" \")))\n",
    "    except:\n",
    "        print(t)\n",
    "\n",
    "X_seq_test = prepare_sequences(eval_tokenized, max_len=MAX_LEN, vocab=vocab)\n",
    "\n",
    "y_pred_test = model.predict(X_seq_test, verbose=1, batch_size=5)\n"
   ]
  },
  {
   "cell_type": "code",
   "execution_count": 7,
   "metadata": {},
   "outputs": [
    {
     "name": "stdout",
     "output_type": "stream",
     "text": [
      "Recipe: Heat a large pot over medium-high heat. Add the chicken and cook until browned on all sides. Add the onion and garlic to the pot and sauté until softened. Add the carrots, potatoes, green beans, chickpeas, chicken broth, bay leaf, and paprika to the pot. Bring to a boil, then reduce the heat and let simmer for 45 minutes to 1 hour, or until the vegetables are tender and the chicken is cooked through. Season with salt and pepper to taste before serving.\n",
      "Csv Ingredients: chicken,onion,garlic ,carrots,potatoes,green beans,chickpeas,chicken broth,bay leaf,paprika,Salt , pepper\n",
      "\n",
      "Predicted Ingredients: are, vegetables, large, ,, through, Add, leaf, pot, before, until, over, bay, chickpeas, taste, the, onion, pepper, for, Bring, Season, sauté, hour, broth, serving, beans, 45, is, garlic, salt, minutes, chicken, simmer, potatoes, browned, or, softened, tender, carrots, paprika, cook, medium, -, let, all, Heat, to, reduce, with, heat, 1, on, then, a, ., cooked, sides, and, boil, green, high, \n",
      "Predicted Ingredients after Clean: chicken, onion, garlic, carrots, potatoes, beans, chickpeas, broth, bay, paprika, vegetables, salt, pepper, \n"
     ]
    }
   ],
   "source": [
    "\n",
    "i = 9\n",
    "pred_i = y_pred_test[i] > 0.01\n",
    "ingreds = [t.text for t, p in zip(eval_tokenized[i], pred_i) if p]\n",
    "set(ingreds)\n",
    "ing_ver=[]\n",
    "for j in ingreds:\n",
    "    if singularize(j) in dic_ing.keys() and j not in ing_ver:\n",
    "        ing_ver.append(j)\n",
    "        \n",
    "print('Recipe: ' + str(eval_tokenized[i]))  \n",
    "print('Csv Ingredients: ' + eval_ingredients[i])     \n",
    "print()\n",
    "print('Predicted Ingredients: ',end=\"\")\n",
    "[print(i,end=\", \") for i in set(ingreds)]\n",
    "print()\n",
    "print('Predicted Ingredients after Clean: ',end=\"\")\n",
    "[print(i,end=\", \") for i in ing_ver]\n",
    "print()"
   ]
  },
  {
   "cell_type": "code",
   "execution_count": 8,
   "metadata": {},
   "outputs": [
    {
     "name": "stdout",
     "output_type": "stream",
     "text": [
      "1/1 [==============================] - 5s 5s/step\n",
      "Recipe: 2 beef beer ingredients 500g cheap beef pieces stewing steak usually cheap 500 mls real ale 4 large onions 2 fat cloves garlic tbsp plain flour method raw beef roll flour fry 4 5 pieces time hot saucepan seal put one side done cut onions quarters fry frying pan beef soak juices towards end frying onion nicely brown round edges throw smashed cloves garlic transfer beef onions garlic deep casserole dish stir remaining flour pour bottle beer really going wasted cover cook 150 2 half hours gorgeous comes trust serve mash \"\" 3 pad thai chicken 4 servings ingredients essential items rice noodles use another type noodle read packet instructions cook 2 chicken breasts salt pepper 3 medium red chillis chopped 3 spring onions chopped 2 eggs corriander corriander substitute dried mint 1 tbsp lemon juice 1 tbsp brown sugar 2 cloves garlic minced 3 tbsp fish sauce following ingredients essential afford taste fantastic dish 60g cooked shrimp 3 tbsp roasted peanuts slightly ground beansprouts mange tout sugar snap peas method 1 soak rice noodles hot water 20 minutes cooked 2 heat oil pan add two beaten seasoned eggs make omlette transfer plate chop strips leave cool 3 heat oil wok add chicken sealed sides add garlic 4 add spring onions shrimp using stir fry another minute 5 add chillis drained noodles fish sauce lemon juice sugar peanuts stir fry high heat another minute 6 toss bean sprouts omlette strips mange tout stir fry briskly 30 seconds 7 toss corriander season taste serve piping hot \n",
      "\n",
      "Ingredients: beef, beer, steak, garlic, flour, roll, onion, chicken, rice, salt, pepper, lemon, sugar, fish, sauce, shrimp, water, oil, bean, \n"
     ]
    }
   ],
   "source": [
    "input_txt = open(\"test.txt\", \"r\")\n",
    "\n",
    "input_tokenized=[]\n",
    "input_tokenized.append(nlp(input_txt.read()))\n",
    "inp_seq = prepare_sequences(input_tokenized, max_len=MAX_LEN, vocab=vocab)\n",
    "out_seq = model.predict(inp_seq, verbose=1, batch_size=1)\n",
    "\n",
    "predict = out_seq > 0.05\n",
    "        \n",
    "print('Recipe: ' + str(input_tokenized[0]))\n",
    "print()\n",
    "ingreds_test = [t.text for t, p in zip(input_tokenized[0], predict[0]) if p]\n",
    "set(ingreds_test)\n",
    "ing=[]\n",
    "for i in ingreds_test:\n",
    "    if i in dic_ing.keys() and i not in ing:\n",
    "        ing.append(i)\n",
    "print('Ingredients: ',end=\"\")\n",
    "[print(i,end=\", \") for i in ing]\n",
    "print()\n"
   ]
  },
  {
   "cell_type": "code",
   "execution_count": 9,
   "metadata": {},
   "outputs": [
    {
     "name": "stderr",
     "output_type": "stream",
     "text": [
      "WARNING:absl:Found untraced functions such as _update_step_xla, lstm_cell_1_layer_call_fn, lstm_cell_1_layer_call_and_return_conditional_losses, lstm_cell_2_layer_call_fn, lstm_cell_2_layer_call_and_return_conditional_losses while saving (showing 5 of 9). These functions will not be directly callable after loading.\n"
     ]
    },
    {
     "name": "stdout",
     "output_type": "stream",
     "text": [
      "INFO:tensorflow:Assets written to: NL/recipe_ing_model.h5/assets\n"
     ]
    },
    {
     "name": "stderr",
     "output_type": "stream",
     "text": [
      "INFO:tensorflow:Assets written to: NL/recipe_ing_model.h5/assets\n"
     ]
    }
   ],
   "source": [
    "import pickle\n",
    "\n",
    "tf.saved_model.save(model, 'NL/model/recipe_ing_model.h5')\n",
    "\n",
    "with open('NL/save/vocab.pkl', 'wb') as fp:\n",
    "    pickle.dump(vocab, fp)\n",
    "    \n",
    "with open('NL/save/ingred_vocab.pkl', 'wb') as fp:\n",
    "    pickle.dump(dic_ing, fp)"
   ]
  },
  {
   "cell_type": "code",
   "execution_count": 10,
   "metadata": {},
   "outputs": [
    {
     "name": "stderr",
     "output_type": "stream",
     "text": [
      "2023-04-15 18:23:20.049774: W tensorflow/core/common_runtime/graph_constructor.cc:805] Node 'cond/while' has 14 outputs but the _output_shapes attribute specifies shapes for 48 outputs. Output shapes may be inaccurate.\n",
      "2023-04-15 18:23:20.065248: W tensorflow/core/common_runtime/graph_constructor.cc:805] Node 'cond' has 5 outputs but the _output_shapes attribute specifies shapes for 48 outputs. Output shapes may be inaccurate.\n",
      "2023-04-15 18:23:20.280271: W tensorflow/core/common_runtime/graph_constructor.cc:805] Node 'cond/while' has 14 outputs but the _output_shapes attribute specifies shapes for 48 outputs. Output shapes may be inaccurate.\n",
      "2023-04-15 18:23:21.083148: W tensorflow/core/common_runtime/graph_constructor.cc:805] Node 'cond/while' has 14 outputs but the _output_shapes attribute specifies shapes for 48 outputs. Output shapes may be inaccurate.\n",
      "2023-04-15 18:23:21.113377: W tensorflow/core/common_runtime/graph_constructor.cc:805] Node 'cond/while' has 14 outputs but the _output_shapes attribute specifies shapes for 48 outputs. Output shapes may be inaccurate.\n",
      "2023-04-15 18:23:21.143010: W tensorflow/core/common_runtime/graph_constructor.cc:805] Node 'cond' has 5 outputs but the _output_shapes attribute specifies shapes for 48 outputs. Output shapes may be inaccurate.\n",
      "2023-04-15 18:23:23.080649: W tensorflow/core/common_runtime/graph_constructor.cc:805] Node 'cond/while' has 14 outputs but the _output_shapes attribute specifies shapes for 48 outputs. Output shapes may be inaccurate.\n",
      "2023-04-15 18:23:23.150072: W tensorflow/core/common_runtime/graph_constructor.cc:805] Node 'cond/while' has 14 outputs but the _output_shapes attribute specifies shapes for 48 outputs. Output shapes may be inaccurate.\n",
      "2023-04-15 18:23:23.701776: W tensorflow/core/common_runtime/graph_constructor.cc:805] Node 'cond/while' has 14 outputs but the _output_shapes attribute specifies shapes for 48 outputs. Output shapes may be inaccurate.\n",
      "2023-04-15 18:23:27.468603: W tensorflow/core/common_runtime/graph_constructor.cc:805] Node 'cond/while' has 14 outputs but the _output_shapes attribute specifies shapes for 48 outputs. Output shapes may be inaccurate.\n",
      "2023-04-15 18:23:27.928742: W tensorflow/core/common_runtime/graph_constructor.cc:805] Node 'cond/while' has 14 outputs but the _output_shapes attribute specifies shapes for 48 outputs. Output shapes may be inaccurate.\n",
      "2023-04-15 18:23:28.142832: W tensorflow/core/common_runtime/graph_constructor.cc:805] Node 'cond/while' has 14 outputs but the _output_shapes attribute specifies shapes for 48 outputs. Output shapes may be inaccurate.\n",
      "2023-04-15 18:23:28.870926: W tensorflow/core/common_runtime/graph_constructor.cc:805] Node 'cond' has 5 outputs but the _output_shapes attribute specifies shapes for 48 outputs. Output shapes may be inaccurate.\n",
      "2023-04-15 18:23:28.923417: W tensorflow/core/common_runtime/graph_constructor.cc:805] Node 'cond' has 5 outputs but the _output_shapes attribute specifies shapes for 48 outputs. Output shapes may be inaccurate.\n",
      "2023-04-15 18:23:29.073145: W tensorflow/core/common_runtime/graph_constructor.cc:805] Node 'cond' has 5 outputs but the _output_shapes attribute specifies shapes for 48 outputs. Output shapes may be inaccurate.\n",
      "2023-04-15 18:23:29.475886: W tensorflow/core/common_runtime/graph_constructor.cc:805] Node 'cond/while' has 14 outputs but the _output_shapes attribute specifies shapes for 48 outputs. Output shapes may be inaccurate.\n",
      "2023-04-15 18:23:29.492893: W tensorflow/core/common_runtime/graph_constructor.cc:805] Node 'cond' has 5 outputs but the _output_shapes attribute specifies shapes for 48 outputs. Output shapes may be inaccurate.\n",
      "2023-04-15 18:23:30.360632: W tensorflow/core/common_runtime/graph_constructor.cc:805] Node 'cond' has 5 outputs but the _output_shapes attribute specifies shapes for 48 outputs. Output shapes may be inaccurate.\n",
      "2023-04-15 18:23:30.995856: W tensorflow/core/common_runtime/graph_constructor.cc:805] Node 'cond/while' has 14 outputs but the _output_shapes attribute specifies shapes for 48 outputs. Output shapes may be inaccurate.\n",
      "2023-04-15 18:23:31.010194: W tensorflow/core/common_runtime/graph_constructor.cc:805] Node 'cond' has 5 outputs but the _output_shapes attribute specifies shapes for 48 outputs. Output shapes may be inaccurate.\n",
      "2023-04-15 18:23:31.337814: W tensorflow/core/common_runtime/graph_constructor.cc:805] Node 'cond/while' has 14 outputs but the _output_shapes attribute specifies shapes for 48 outputs. Output shapes may be inaccurate.\n",
      "2023-04-15 18:23:31.604861: W tensorflow/core/common_runtime/graph_constructor.cc:805] Node 'cond/while' has 14 outputs but the _output_shapes attribute specifies shapes for 48 outputs. Output shapes may be inaccurate.\n",
      "2023-04-15 18:23:31.620928: W tensorflow/core/common_runtime/graph_constructor.cc:805] Node 'cond' has 5 outputs but the _output_shapes attribute specifies shapes for 48 outputs. Output shapes may be inaccurate.\n",
      "2023-04-15 18:23:31.678868: W tensorflow/core/common_runtime/graph_constructor.cc:805] Node 'cond' has 5 outputs but the _output_shapes attribute specifies shapes for 48 outputs. Output shapes may be inaccurate.\n",
      "2023-04-15 18:23:32.411129: W tensorflow/core/common_runtime/graph_constructor.cc:805] Node 'cond/while' has 14 outputs but the _output_shapes attribute specifies shapes for 48 outputs. Output shapes may be inaccurate.\n",
      "2023-04-15 18:23:32.513869: W tensorflow/core/common_runtime/graph_constructor.cc:805] Node 'cond/while' has 14 outputs but the _output_shapes attribute specifies shapes for 48 outputs. Output shapes may be inaccurate.\n",
      "2023-04-15 18:23:32.548701: W tensorflow/core/common_runtime/graph_constructor.cc:805] Node 'cond' has 5 outputs but the _output_shapes attribute specifies shapes for 48 outputs. Output shapes may be inaccurate.\n",
      "2023-04-15 18:23:32.678748: W tensorflow/core/common_runtime/graph_constructor.cc:805] Node 'cond/while' has 14 outputs but the _output_shapes attribute specifies shapes for 48 outputs. Output shapes may be inaccurate.\n",
      "2023-04-15 18:23:32.699618: W tensorflow/core/common_runtime/graph_constructor.cc:805] Node 'cond' has 5 outputs but the _output_shapes attribute specifies shapes for 48 outputs. Output shapes may be inaccurate.\n",
      "2023-04-15 18:23:32.885656: W tensorflow/core/common_runtime/graph_constructor.cc:805] Node 'cond/while' has 14 outputs but the _output_shapes attribute specifies shapes for 48 outputs. Output shapes may be inaccurate.\n",
      "2023-04-15 18:23:32.902137: W tensorflow/core/common_runtime/graph_constructor.cc:805] Node 'cond' has 5 outputs but the _output_shapes attribute specifies shapes for 48 outputs. Output shapes may be inaccurate.\n",
      "2023-04-15 18:23:33.070550: W tensorflow/core/common_runtime/graph_constructor.cc:805] Node 'cond/while' has 14 outputs but the _output_shapes attribute specifies shapes for 48 outputs. Output shapes may be inaccurate.\n",
      "2023-04-15 18:23:33.085159: W tensorflow/core/common_runtime/graph_constructor.cc:805] Node 'cond' has 5 outputs but the _output_shapes attribute specifies shapes for 48 outputs. Output shapes may be inaccurate.\n",
      "2023-04-15 18:23:33.106025: W tensorflow/core/common_runtime/graph_constructor.cc:805] Node 'cond/while' has 14 outputs but the _output_shapes attribute specifies shapes for 48 outputs. Output shapes may be inaccurate.\n",
      "2023-04-15 18:23:33.433969: W tensorflow/core/common_runtime/graph_constructor.cc:805] Node 'cond/while' has 14 outputs but the _output_shapes attribute specifies shapes for 48 outputs. Output shapes may be inaccurate.\n",
      "2023-04-15 18:23:33.463321: W tensorflow/core/common_runtime/graph_constructor.cc:805] Node 'cond/while' has 14 outputs but the _output_shapes attribute specifies shapes for 48 outputs. Output shapes may be inaccurate.\n",
      "2023-04-15 18:23:34.045152: W tensorflow/core/common_runtime/graph_constructor.cc:805] Node 'cond' has 5 outputs but the _output_shapes attribute specifies shapes for 48 outputs. Output shapes may be inaccurate.\n",
      "2023-04-15 18:23:34.070747: W tensorflow/core/common_runtime/graph_constructor.cc:805] Node 'cond' has 5 outputs but the _output_shapes attribute specifies shapes for 48 outputs. Output shapes may be inaccurate.\n",
      "2023-04-15 18:23:34.455988: W tensorflow/core/common_runtime/graph_constructor.cc:805] Node 'cond' has 5 outputs but the _output_shapes attribute specifies shapes for 48 outputs. Output shapes may be inaccurate.\n",
      "2023-04-15 18:23:34.627983: W tensorflow/core/common_runtime/graph_constructor.cc:805] Node 'cond/while' has 14 outputs but the _output_shapes attribute specifies shapes for 48 outputs. Output shapes may be inaccurate.\n",
      "2023-04-15 18:23:35.125643: W tensorflow/core/common_runtime/graph_constructor.cc:805] Node 'cond' has 5 outputs but the _output_shapes attribute specifies shapes for 48 outputs. Output shapes may be inaccurate.\n",
      "2023-04-15 18:23:35.223006: W tensorflow/core/common_runtime/graph_constructor.cc:805] Node 'cond/while' has 14 outputs but the _output_shapes attribute specifies shapes for 48 outputs. Output shapes may be inaccurate.\n",
      "2023-04-15 18:23:35.239158: W tensorflow/core/common_runtime/graph_constructor.cc:805] Node 'cond' has 5 outputs but the _output_shapes attribute specifies shapes for 48 outputs. Output shapes may be inaccurate.\n",
      "2023-04-15 18:23:35.390240: W tensorflow/core/common_runtime/graph_constructor.cc:805] Node 'cond' has 5 outputs but the _output_shapes attribute specifies shapes for 48 outputs. Output shapes may be inaccurate.\n",
      "2023-04-15 18:23:36.210914: W tensorflow/core/common_runtime/graph_constructor.cc:805] Node 'cond/while' has 14 outputs but the _output_shapes attribute specifies shapes for 48 outputs. Output shapes may be inaccurate.\n",
      "2023-04-15 18:23:36.236785: W tensorflow/core/common_runtime/graph_constructor.cc:805] Node 'cond/while' has 14 outputs but the _output_shapes attribute specifies shapes for 48 outputs. Output shapes may be inaccurate.\n",
      "2023-04-15 18:23:36.255626: W tensorflow/core/common_runtime/graph_constructor.cc:805] Node 'cond' has 5 outputs but the _output_shapes attribute specifies shapes for 48 outputs. Output shapes may be inaccurate.\n",
      "2023-04-15 18:23:36.279546: W tensorflow/core/common_runtime/graph_constructor.cc:805] Node 'cond/while' has 14 outputs but the _output_shapes attribute specifies shapes for 48 outputs. Output shapes may be inaccurate.\n",
      "2023-04-15 18:23:36.294130: W tensorflow/core/common_runtime/graph_constructor.cc:805] Node 'cond' has 5 outputs but the _output_shapes attribute specifies shapes for 48 outputs. Output shapes may be inaccurate.\n",
      "2023-04-15 18:23:36.496427: W tensorflow/core/common_runtime/graph_constructor.cc:805] Node 'cond/while' has 14 outputs but the _output_shapes attribute specifies shapes for 48 outputs. Output shapes may be inaccurate.\n",
      "2023-04-15 18:23:36.512796: W tensorflow/core/common_runtime/graph_constructor.cc:805] Node 'cond' has 5 outputs but the _output_shapes attribute specifies shapes for 48 outputs. Output shapes may be inaccurate.\n",
      "2023-04-15 18:23:36.600486: W tensorflow/core/common_runtime/graph_constructor.cc:805] Node 'cond/while' has 14 outputs but the _output_shapes attribute specifies shapes for 48 outputs. Output shapes may be inaccurate.\n",
      "2023-04-15 18:23:36.615136: W tensorflow/core/common_runtime/graph_constructor.cc:805] Node 'cond' has 5 outputs but the _output_shapes attribute specifies shapes for 48 outputs. Output shapes may be inaccurate.\n",
      "2023-04-15 18:23:36.788183: W tensorflow/core/common_runtime/graph_constructor.cc:805] Node 'cond' has 5 outputs but the _output_shapes attribute specifies shapes for 48 outputs. Output shapes may be inaccurate.\n",
      "2023-04-15 18:23:37.299079: W tensorflow/core/common_runtime/graph_constructor.cc:805] Node 'cond/while' has 14 outputs but the _output_shapes attribute specifies shapes for 48 outputs. Output shapes may be inaccurate.\n",
      "2023-04-15 18:23:37.314239: W tensorflow/core/common_runtime/graph_constructor.cc:805] Node 'cond' has 5 outputs but the _output_shapes attribute specifies shapes for 48 outputs. Output shapes may be inaccurate.\n",
      "2023-04-15 18:23:37.386933: W tensorflow/core/common_runtime/graph_constructor.cc:805] Node 'cond/while' has 14 outputs but the _output_shapes attribute specifies shapes for 48 outputs. Output shapes may be inaccurate.\n",
      "2023-04-15 18:23:37.400391: W tensorflow/core/common_runtime/graph_constructor.cc:805] Node 'cond' has 5 outputs but the _output_shapes attribute specifies shapes for 48 outputs. Output shapes may be inaccurate.\n",
      "2023-04-15 18:23:37.444902: W tensorflow/core/common_runtime/graph_constructor.cc:805] Node 'cond/while' has 14 outputs but the _output_shapes attribute specifies shapes for 48 outputs. Output shapes may be inaccurate.\n",
      "2023-04-15 18:23:37.460540: W tensorflow/core/common_runtime/graph_constructor.cc:805] Node 'cond' has 5 outputs but the _output_shapes attribute specifies shapes for 48 outputs. Output shapes may be inaccurate.\n",
      "2023-04-15 18:23:37.543671: W tensorflow/core/common_runtime/graph_constructor.cc:805] Node 'cond' has 5 outputs but the _output_shapes attribute specifies shapes for 48 outputs. Output shapes may be inaccurate.\n",
      "2023-04-15 18:23:37.642630: W tensorflow/core/common_runtime/graph_constructor.cc:805] Node 'cond/while' has 14 outputs but the _output_shapes attribute specifies shapes for 48 outputs. Output shapes may be inaccurate.\n",
      "2023-04-15 18:23:37.656337: W tensorflow/core/common_runtime/graph_constructor.cc:805] Node 'cond' has 5 outputs but the _output_shapes attribute specifies shapes for 48 outputs. Output shapes may be inaccurate.\n",
      "2023-04-15 18:23:38.422658: W tensorflow/core/common_runtime/graph_constructor.cc:805] Node 'cond/while' has 14 outputs but the _output_shapes attribute specifies shapes for 48 outputs. Output shapes may be inaccurate.\n",
      "2023-04-15 18:23:38.751042: W tensorflow/core/common_runtime/graph_constructor.cc:805] Node 'cond' has 5 outputs but the _output_shapes attribute specifies shapes for 48 outputs. Output shapes may be inaccurate.\n",
      "2023-04-15 18:23:38.775783: W tensorflow/core/common_runtime/graph_constructor.cc:805] Node 'cond/while' has 14 outputs but the _output_shapes attribute specifies shapes for 48 outputs. Output shapes may be inaccurate.\n",
      "2023-04-15 18:23:38.794297: W tensorflow/core/common_runtime/graph_constructor.cc:805] Node 'cond/while' has 14 outputs but the _output_shapes attribute specifies shapes for 48 outputs. Output shapes may be inaccurate.\n",
      "2023-04-15 18:23:38.808105: W tensorflow/core/common_runtime/graph_constructor.cc:805] Node 'cond' has 5 outputs but the _output_shapes attribute specifies shapes for 48 outputs. Output shapes may be inaccurate.\n",
      "2023-04-15 18:23:38.883010: W tensorflow/core/common_runtime/graph_constructor.cc:805] Node 'cond/while' has 14 outputs but the _output_shapes attribute specifies shapes for 48 outputs. Output shapes may be inaccurate.\n",
      "2023-04-15 18:23:38.896849: W tensorflow/core/common_runtime/graph_constructor.cc:805] Node 'cond' has 5 outputs but the _output_shapes attribute specifies shapes for 48 outputs. Output shapes may be inaccurate.\n",
      "2023-04-15 18:23:39.283129: W tensorflow/core/common_runtime/graph_constructor.cc:805] Node 'cond/while' has 14 outputs but the _output_shapes attribute specifies shapes for 48 outputs. Output shapes may be inaccurate.\n",
      "2023-04-15 18:23:39.300137: W tensorflow/core/common_runtime/graph_constructor.cc:805] Node 'cond' has 5 outputs but the _output_shapes attribute specifies shapes for 48 outputs. Output shapes may be inaccurate.\n",
      "2023-04-15 18:23:39.660659: W tensorflow/core/common_runtime/graph_constructor.cc:805] Node 'cond/while' has 14 outputs but the _output_shapes attribute specifies shapes for 48 outputs. Output shapes may be inaccurate.\n",
      "2023-04-15 18:23:39.675905: W tensorflow/core/common_runtime/graph_constructor.cc:805] Node 'cond' has 5 outputs but the _output_shapes attribute specifies shapes for 48 outputs. Output shapes may be inaccurate.\n",
      "2023-04-15 18:23:39.712242: W tensorflow/core/common_runtime/graph_constructor.cc:805] Node 'cond/while' has 14 outputs but the _output_shapes attribute specifies shapes for 48 outputs. Output shapes may be inaccurate.\n",
      "2023-04-15 18:23:40.049539: W tensorflow/core/common_runtime/graph_constructor.cc:805] Node 'cond' has 5 outputs but the _output_shapes attribute specifies shapes for 48 outputs. Output shapes may be inaccurate.\n",
      "2023-04-15 18:23:40.467580: W tensorflow/core/common_runtime/graph_constructor.cc:805] Node 'cond/while' has 14 outputs but the _output_shapes attribute specifies shapes for 48 outputs. Output shapes may be inaccurate.\n",
      "2023-04-15 18:23:40.482726: W tensorflow/core/common_runtime/graph_constructor.cc:805] Node 'cond' has 5 outputs but the _output_shapes attribute specifies shapes for 48 outputs. Output shapes may be inaccurate.\n",
      "2023-04-15 18:23:40.649036: W tensorflow/core/common_runtime/graph_constructor.cc:805] Node 'cond/while' has 14 outputs but the _output_shapes attribute specifies shapes for 48 outputs. Output shapes may be inaccurate.\n",
      "2023-04-15 18:23:40.678645: W tensorflow/core/common_runtime/graph_constructor.cc:805] Node 'cond/while' has 14 outputs but the _output_shapes attribute specifies shapes for 48 outputs. Output shapes may be inaccurate.\n",
      "2023-04-15 18:23:40.696740: W tensorflow/core/common_runtime/graph_constructor.cc:805] Node 'cond' has 5 outputs but the _output_shapes attribute specifies shapes for 48 outputs. Output shapes may be inaccurate.\n",
      "2023-04-15 18:23:41.029148: W tensorflow/core/common_runtime/graph_constructor.cc:805] Node 'cond' has 5 outputs but the _output_shapes attribute specifies shapes for 48 outputs. Output shapes may be inaccurate.\n",
      "2023-04-15 18:23:41.240362: W tensorflow/core/common_runtime/graph_constructor.cc:805] Node 'cond/while' has 14 outputs but the _output_shapes attribute specifies shapes for 48 outputs. Output shapes may be inaccurate.\n",
      "2023-04-15 18:23:41.261249: W tensorflow/core/common_runtime/graph_constructor.cc:805] Node 'cond' has 5 outputs but the _output_shapes attribute specifies shapes for 48 outputs. Output shapes may be inaccurate.\n",
      "2023-04-15 18:23:41.281727: W tensorflow/core/common_runtime/graph_constructor.cc:805] Node 'cond/while' has 14 outputs but the _output_shapes attribute specifies shapes for 48 outputs. Output shapes may be inaccurate.\n",
      "2023-04-15 18:23:41.298488: W tensorflow/core/common_runtime/graph_constructor.cc:805] Node 'cond' has 5 outputs but the _output_shapes attribute specifies shapes for 48 outputs. Output shapes may be inaccurate.\n",
      "2023-04-15 18:23:41.482695: W tensorflow/core/common_runtime/graph_constructor.cc:805] Node 'cond/while' has 14 outputs but the _output_shapes attribute specifies shapes for 48 outputs. Output shapes may be inaccurate.\n",
      "2023-04-15 18:23:42.025703: W tensorflow/core/common_runtime/graph_constructor.cc:805] Node 'cond/while' has 14 outputs but the _output_shapes attribute specifies shapes for 48 outputs. Output shapes may be inaccurate.\n",
      "2023-04-15 18:23:42.041341: W tensorflow/core/common_runtime/graph_constructor.cc:805] Node 'cond' has 5 outputs but the _output_shapes attribute specifies shapes for 48 outputs. Output shapes may be inaccurate.\n",
      "2023-04-15 18:23:42.066786: W tensorflow/core/common_runtime/graph_constructor.cc:805] Node 'cond' has 5 outputs but the _output_shapes attribute specifies shapes for 48 outputs. Output shapes may be inaccurate.\n",
      "2023-04-15 18:23:42.126575: W tensorflow/core/common_runtime/graph_constructor.cc:805] Node 'cond' has 5 outputs but the _output_shapes attribute specifies shapes for 48 outputs. Output shapes may be inaccurate.\n",
      "2023-04-15 18:23:42.759746: W tensorflow/core/common_runtime/graph_constructor.cc:805] Node 'cond/while' has 14 outputs but the _output_shapes attribute specifies shapes for 48 outputs. Output shapes may be inaccurate.\n",
      "2023-04-15 18:23:42.775146: W tensorflow/core/common_runtime/graph_constructor.cc:805] Node 'cond' has 5 outputs but the _output_shapes attribute specifies shapes for 48 outputs. Output shapes may be inaccurate.\n",
      "2023-04-15 18:23:42.913477: W tensorflow/core/common_runtime/graph_constructor.cc:805] Node 'cond' has 5 outputs but the _output_shapes attribute specifies shapes for 48 outputs. Output shapes may be inaccurate.\n",
      "2023-04-15 18:23:43.087419: W tensorflow/core/common_runtime/graph_constructor.cc:805] Node 'cond/while' has 14 outputs but the _output_shapes attribute specifies shapes for 48 outputs. Output shapes may be inaccurate.\n",
      "2023-04-15 18:23:43.103034: W tensorflow/core/common_runtime/graph_constructor.cc:805] Node 'cond' has 5 outputs but the _output_shapes attribute specifies shapes for 48 outputs. Output shapes may be inaccurate.\n",
      "2023-04-15 18:23:43.259705: W tensorflow/core/common_runtime/graph_constructor.cc:805] Node 'cond/while' has 14 outputs but the _output_shapes attribute specifies shapes for 48 outputs. Output shapes may be inaccurate.\n",
      "2023-04-15 18:23:43.275224: W tensorflow/core/common_runtime/graph_constructor.cc:805] Node 'cond' has 5 outputs but the _output_shapes attribute specifies shapes for 48 outputs. Output shapes may be inaccurate.\n",
      "2023-04-15 18:23:43.306483: W tensorflow/core/common_runtime/graph_constructor.cc:805] Node 'cond' has 5 outputs but the _output_shapes attribute specifies shapes for 48 outputs. Output shapes may be inaccurate.\n",
      "2023-04-15 18:23:43.501200: W tensorflow/core/common_runtime/graph_constructor.cc:805] Node 'cond/while' has 14 outputs but the _output_shapes attribute specifies shapes for 48 outputs. Output shapes may be inaccurate.\n",
      "2023-04-15 18:23:43.517184: W tensorflow/core/common_runtime/graph_constructor.cc:805] Node 'cond' has 5 outputs but the _output_shapes attribute specifies shapes for 48 outputs. Output shapes may be inaccurate.\n",
      "2023-04-15 18:23:43.797021: W tensorflow/core/common_runtime/graph_constructor.cc:805] Node 'cond' has 5 outputs but the _output_shapes attribute specifies shapes for 48 outputs. Output shapes may be inaccurate.\n",
      "2023-04-15 18:23:43.822133: W tensorflow/core/common_runtime/graph_constructor.cc:805] Node 'cond/while' has 14 outputs but the _output_shapes attribute specifies shapes for 48 outputs. Output shapes may be inaccurate.\n",
      "2023-04-15 18:23:43.835792: W tensorflow/core/common_runtime/graph_constructor.cc:805] Node 'cond' has 5 outputs but the _output_shapes attribute specifies shapes for 48 outputs. Output shapes may be inaccurate.\n"
     ]
    },
    {
     "name": "stdout",
     "output_type": "stream",
     "text": [
      "Ingredients: beef, beer, steak, garlic, flour, roll, onion, chicken, rice, salt, pepper, lemon, sugar, fish, sauce, shrimp, water, oil, bean, \n"
     ]
    },
    {
     "ename": "",
     "evalue": "",
     "output_type": "error",
     "traceback": [
      "\u001b[1;31mThe Kernel crashed while executing code in the the current cell or a previous cell. Please review the code in the cell(s) to identify a possible cause of the failure. Click <a href='https://aka.ms/vscodeJupyterKernelCrash'>here</a> for more info. View Jupyter <a href='command:jupyter.viewOutput'>log</a> for further details."
     ]
    }
   ],
   "source": [
    "with open('NL/save/vocab.pkl', 'rb') as fp:\n",
    "        vocab = pickle.load(fp)\n",
    "        \n",
    "with open('NL/save/ingred_vocab.pkl', 'rb') as fp:\n",
    "    dic_ing = pickle.load(fp)\n",
    "\n",
    "model = tf.saved_model.load('NL/model/recipe_ing_model.h5')\n",
    "\n",
    "input = open(\"test.txt\", \"r\")\n",
    "\n",
    "input_tokenized=[]\n",
    "input_tokenized.append(nlp(input.read()))\n",
    "inp_seq = prepare_sequences(input_tokenized, max_len=MAX_LEN, vocab=vocab)\n",
    "out_seq = model(inp_seq)\n",
    "\n",
    "predict = out_seq > 0.05\n",
    "ingreds_test = [t.text for t, p in zip(input_tokenized[0], predict[0]) if p]\n",
    "set(ingreds_test)\n",
    "ing=[]\n",
    "for i in ingreds_test:\n",
    "    if i in dic_ing.keys() and i not in ing:\n",
    "        ing.append(i)\n",
    "\n",
    "print('Ingredients: ',end=\"\")\n",
    "[print(i,end=\", \") for i in ing]\n",
    "print()"
   ]
  }
 ],
 "metadata": {
  "kernelspec": {
   "display_name": "work",
   "language": "python",
   "name": "python3"
  },
  "language_info": {
   "codemirror_mode": {
    "name": "ipython",
    "version": 3
   },
   "file_extension": ".py",
   "mimetype": "text/x-python",
   "name": "python",
   "nbconvert_exporter": "python",
   "pygments_lexer": "ipython3",
   "version": "3.10.10"
  },
  "orig_nbformat": 4
 },
 "nbformat": 4,
 "nbformat_minor": 2
}
